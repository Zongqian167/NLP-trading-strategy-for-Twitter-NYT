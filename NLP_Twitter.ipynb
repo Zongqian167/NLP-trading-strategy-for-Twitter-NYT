{
  "nbformat": 4,
  "nbformat_minor": 0,
  "metadata": {
    "kernelspec": {
      "display_name": "Python 3",
      "language": "python",
      "name": "python3"
    },
    "language_info": {
      "codemirror_mode": {
        "name": "ipython",
        "version": 3
      },
      "file_extension": ".py",
      "mimetype": "text/x-python",
      "name": "python",
      "nbconvert_exporter": "python",
      "pygments_lexer": "ipython3",
      "version": "3.7.7"
    },
    "colab": {
      "name": "NLP-Twitter.ipynb",
      "provenance": [],
      "collapsed_sections": [],
      "toc_visible": true,
      "machine_shape": "hm"
    },
    "accelerator": "GPU"
  },
  "cells": [
    {
      "cell_type": "code",
      "metadata": {
        "id": "FAW-k5DkBLvv"
      },
      "source": [
        "year = 2010"
      ],
      "execution_count": null,
      "outputs": []
    },
    {
      "cell_type": "markdown",
      "metadata": {
        "id": "ATDwbGcAInUZ"
      },
      "source": [
        "## Data Preprocessing"
      ]
    },
    {
      "cell_type": "code",
      "metadata": {
        "colab": {
          "base_uri": "https://localhost:8080/"
        },
        "id": "Xr85QQ3cJX42",
        "outputId": "1d30eb89-0ce7-4ed8-b989-94804bf72e0f"
      },
      "source": [
        "from google.colab import drive\n",
        "drive.mount('/content/drive')\n",
        "!pip install tweet-preprocessor\n",
        "!pip install flair\n",
        "!pip install yfinance\n",
        "from pandas_datareader import data\n",
        "import pandas_datareader as pdr\n",
        "import matplotlib.pyplot as plt\n",
        "import pandas as pd\n",
        "import numpy as np\n",
        "import datetime\n",
        "import yfinance\n",
        "import os "
      ],
      "execution_count": null,
      "outputs": [
        {
          "output_type": "stream",
          "name": "stdout",
          "text": [
            "Mounted at /content/drive\n",
            "Collecting tweet-preprocessor\n",
            "  Downloading tweet_preprocessor-0.6.0-py3-none-any.whl (27 kB)\n",
            "Installing collected packages: tweet-preprocessor\n",
            "Successfully installed tweet-preprocessor-0.6.0\n",
            "Collecting flair\n",
            "  Downloading flair-0.9-py3-none-any.whl (319 kB)\n",
            "\u001b[K     |████████████████████████████████| 319 kB 4.2 MB/s \n",
            "\u001b[?25hRequirement already satisfied: hyperopt>=0.1.1 in /usr/local/lib/python3.7/dist-packages (from flair) (0.1.2)\n",
            "Collecting segtok>=1.5.7\n",
            "  Downloading segtok-1.5.10.tar.gz (25 kB)\n",
            "Collecting deprecated>=1.2.4\n",
            "  Downloading Deprecated-1.2.13-py2.py3-none-any.whl (9.6 kB)\n",
            "Requirement already satisfied: tabulate in /usr/local/lib/python3.7/dist-packages (from flair) (0.8.9)\n",
            "Collecting sqlitedict>=1.6.0\n",
            "  Downloading sqlitedict-1.7.0.tar.gz (28 kB)\n",
            "Requirement already satisfied: matplotlib>=2.2.3 in /usr/local/lib/python3.7/dist-packages (from flair) (3.2.2)\n",
            "Requirement already satisfied: regex in /usr/local/lib/python3.7/dist-packages (from flair) (2019.12.20)\n",
            "Requirement already satisfied: scikit-learn>=0.21.3 in /usr/local/lib/python3.7/dist-packages (from flair) (1.0.1)\n",
            "Collecting conllu>=4.0\n",
            "  Downloading conllu-4.4.1-py2.py3-none-any.whl (15 kB)\n",
            "Collecting bpemb>=0.3.2\n",
            "  Downloading bpemb-0.3.3-py3-none-any.whl (19 kB)\n",
            "Collecting mpld3==0.3\n",
            "  Downloading mpld3-0.3.tar.gz (788 kB)\n",
            "\u001b[K     |████████████████████████████████| 788 kB 68.5 MB/s \n",
            "\u001b[?25hCollecting transformers>=4.0.0\n",
            "  Downloading transformers-4.12.3-py3-none-any.whl (3.1 MB)\n",
            "\u001b[K     |████████████████████████████████| 3.1 MB 83.2 MB/s \n",
            "\u001b[?25hRequirement already satisfied: torch!=1.8,>=1.5.0 in /usr/local/lib/python3.7/dist-packages (from flair) (1.10.0+cu111)\n",
            "Collecting janome\n",
            "  Downloading Janome-0.4.1-py2.py3-none-any.whl (19.7 MB)\n",
            "\u001b[K     |████████████████████████████████| 19.7 MB 83 kB/s \n",
            "\u001b[?25hCollecting sentencepiece==0.1.95\n",
            "  Downloading sentencepiece-0.1.95-cp37-cp37m-manylinux2014_x86_64.whl (1.2 MB)\n",
            "\u001b[K     |████████████████████████████████| 1.2 MB 76.5 MB/s \n",
            "\u001b[?25hRequirement already satisfied: tqdm>=4.26.0 in /usr/local/lib/python3.7/dist-packages (from flair) (4.62.3)\n",
            "Collecting gdown==3.12.2\n",
            "  Downloading gdown-3.12.2.tar.gz (8.2 kB)\n",
            "  Installing build dependencies ... \u001b[?25l\u001b[?25hdone\n",
            "  Getting requirements to build wheel ... \u001b[?25l\u001b[?25hdone\n",
            "    Preparing wheel metadata ... \u001b[?25l\u001b[?25hdone\n",
            "Requirement already satisfied: python-dateutil>=2.6.1 in /usr/local/lib/python3.7/dist-packages (from flair) (2.8.2)\n",
            "Collecting huggingface-hub\n",
            "  Downloading huggingface_hub-0.1.2-py3-none-any.whl (59 kB)\n",
            "\u001b[K     |████████████████████████████████| 59 kB 8.0 MB/s \n",
            "\u001b[?25hCollecting langdetect\n",
            "  Downloading langdetect-1.0.9.tar.gz (981 kB)\n",
            "\u001b[K     |████████████████████████████████| 981 kB 26.4 MB/s \n",
            "\u001b[?25hCollecting konoha<5.0.0,>=4.0.0\n",
            "  Downloading konoha-4.6.5-py3-none-any.whl (20 kB)\n",
            "Collecting ftfy\n",
            "  Downloading ftfy-6.0.3.tar.gz (64 kB)\n",
            "\u001b[K     |████████████████████████████████| 64 kB 3.5 MB/s \n",
            "\u001b[?25hRequirement already satisfied: gensim<=3.8.3,>=3.4.0 in /usr/local/lib/python3.7/dist-packages (from flair) (3.6.0)\n",
            "Requirement already satisfied: lxml in /usr/local/lib/python3.7/dist-packages (from flair) (4.2.6)\n",
            "Collecting more-itertools~=8.8.0\n",
            "  Downloading more_itertools-8.8.0-py3-none-any.whl (48 kB)\n",
            "\u001b[K     |████████████████████████████████| 48 kB 6.3 MB/s \n",
            "\u001b[?25hCollecting wikipedia-api\n",
            "  Downloading Wikipedia-API-0.5.4.tar.gz (18 kB)\n",
            "Requirement already satisfied: six in /usr/local/lib/python3.7/dist-packages (from gdown==3.12.2->flair) (1.15.0)\n",
            "Requirement already satisfied: requests[socks] in /usr/local/lib/python3.7/dist-packages (from gdown==3.12.2->flair) (2.23.0)\n",
            "Requirement already satisfied: filelock in /usr/local/lib/python3.7/dist-packages (from gdown==3.12.2->flair) (3.3.2)\n",
            "Requirement already satisfied: numpy in /usr/local/lib/python3.7/dist-packages (from bpemb>=0.3.2->flair) (1.19.5)\n",
            "Requirement already satisfied: wrapt<2,>=1.10 in /usr/local/lib/python3.7/dist-packages (from deprecated>=1.2.4->flair) (1.13.3)\n",
            "Requirement already satisfied: smart-open>=1.2.1 in /usr/local/lib/python3.7/dist-packages (from gensim<=3.8.3,>=3.4.0->flair) (5.2.1)\n",
            "Requirement already satisfied: scipy>=0.18.1 in /usr/local/lib/python3.7/dist-packages (from gensim<=3.8.3,>=3.4.0->flair) (1.4.1)\n",
            "Requirement already satisfied: networkx in /usr/local/lib/python3.7/dist-packages (from hyperopt>=0.1.1->flair) (2.6.3)\n",
            "Requirement already satisfied: future in /usr/local/lib/python3.7/dist-packages (from hyperopt>=0.1.1->flair) (0.16.0)\n",
            "Requirement already satisfied: pymongo in /usr/local/lib/python3.7/dist-packages (from hyperopt>=0.1.1->flair) (3.12.1)\n",
            "Collecting requests\n",
            "  Downloading requests-2.26.0-py2.py3-none-any.whl (62 kB)\n",
            "\u001b[K     |████████████████████████████████| 62 kB 983 kB/s \n",
            "\u001b[?25hCollecting importlib-metadata<4.0.0,>=3.7.0\n",
            "  Downloading importlib_metadata-3.10.1-py3-none-any.whl (14 kB)\n",
            "Collecting overrides<4.0.0,>=3.0.0\n",
            "  Downloading overrides-3.1.0.tar.gz (11 kB)\n",
            "Requirement already satisfied: typing-extensions>=3.6.4 in /usr/local/lib/python3.7/dist-packages (from importlib-metadata<4.0.0,>=3.7.0->konoha<5.0.0,>=4.0.0->flair) (3.10.0.2)\n",
            "Requirement already satisfied: zipp>=0.5 in /usr/local/lib/python3.7/dist-packages (from importlib-metadata<4.0.0,>=3.7.0->konoha<5.0.0,>=4.0.0->flair) (3.6.0)\n",
            "Requirement already satisfied: kiwisolver>=1.0.1 in /usr/local/lib/python3.7/dist-packages (from matplotlib>=2.2.3->flair) (1.3.2)\n",
            "Requirement already satisfied: cycler>=0.10 in /usr/local/lib/python3.7/dist-packages (from matplotlib>=2.2.3->flair) (0.11.0)\n",
            "Requirement already satisfied: pyparsing!=2.0.4,!=2.1.2,!=2.1.6,>=2.0.1 in /usr/local/lib/python3.7/dist-packages (from matplotlib>=2.2.3->flair) (2.4.7)\n",
            "Requirement already satisfied: urllib3<1.27,>=1.21.1 in /usr/local/lib/python3.7/dist-packages (from requests->bpemb>=0.3.2->flair) (1.24.3)\n",
            "Requirement already satisfied: certifi>=2017.4.17 in /usr/local/lib/python3.7/dist-packages (from requests->bpemb>=0.3.2->flair) (2021.10.8)\n",
            "Requirement already satisfied: idna<4,>=2.5 in /usr/local/lib/python3.7/dist-packages (from requests->bpemb>=0.3.2->flair) (2.10)\n",
            "Requirement already satisfied: charset-normalizer~=2.0.0 in /usr/local/lib/python3.7/dist-packages (from requests->bpemb>=0.3.2->flair) (2.0.7)\n",
            "Requirement already satisfied: joblib>=0.11 in /usr/local/lib/python3.7/dist-packages (from scikit-learn>=0.21.3->flair) (1.1.0)\n",
            "Requirement already satisfied: threadpoolctl>=2.0.0 in /usr/local/lib/python3.7/dist-packages (from scikit-learn>=0.21.3->flair) (3.0.0)\n",
            "Collecting sacremoses\n",
            "  Downloading sacremoses-0.0.46-py3-none-any.whl (895 kB)\n",
            "\u001b[K     |████████████████████████████████| 895 kB 54.7 MB/s \n",
            "\u001b[?25hCollecting pyyaml>=5.1\n",
            "  Downloading PyYAML-6.0-cp37-cp37m-manylinux_2_5_x86_64.manylinux1_x86_64.manylinux_2_12_x86_64.manylinux2010_x86_64.whl (596 kB)\n",
            "\u001b[K     |████████████████████████████████| 596 kB 84.3 MB/s \n",
            "\u001b[?25hCollecting tokenizers<0.11,>=0.10.1\n",
            "  Downloading tokenizers-0.10.3-cp37-cp37m-manylinux_2_5_x86_64.manylinux1_x86_64.manylinux_2_12_x86_64.manylinux2010_x86_64.whl (3.3 MB)\n",
            "\u001b[K     |████████████████████████████████| 3.3 MB 77.7 MB/s \n",
            "\u001b[?25hRequirement already satisfied: packaging>=20.0 in /usr/local/lib/python3.7/dist-packages (from transformers>=4.0.0->flair) (21.2)\n",
            "Requirement already satisfied: wcwidth in /usr/local/lib/python3.7/dist-packages (from ftfy->flair) (0.2.5)\n",
            "Requirement already satisfied: PySocks!=1.5.7,>=1.5.6 in /usr/local/lib/python3.7/dist-packages (from requests->bpemb>=0.3.2->flair) (1.7.1)\n",
            "Requirement already satisfied: click in /usr/local/lib/python3.7/dist-packages (from sacremoses->transformers>=4.0.0->flair) (7.1.2)\n",
            "Building wheels for collected packages: gdown, mpld3, overrides, segtok, sqlitedict, ftfy, langdetect, wikipedia-api\n",
            "  Building wheel for gdown (PEP 517) ... \u001b[?25l\u001b[?25hdone\n",
            "  Created wheel for gdown: filename=gdown-3.12.2-py3-none-any.whl size=9704 sha256=51964931238f5844e06183fc2e637ad6b5a686adb5b914b151ec12f6d32853b5\n",
            "  Stored in directory: /root/.cache/pip/wheels/ba/e0/7e/726e872a53f7358b4b96a9975b04e98113b005cd8609a63abc\n",
            "  Building wheel for mpld3 (setup.py) ... \u001b[?25l\u001b[?25hdone\n",
            "  Created wheel for mpld3: filename=mpld3-0.3-py3-none-any.whl size=116702 sha256=7c38ef1e5b44cabc2dc1871dd1e1e2867b05291fbef24a19d8215343ef31d27e\n",
            "  Stored in directory: /root/.cache/pip/wheels/26/70/6a/1c79e59951a41b4045497da187b2724f5659ca64033cf4548e\n",
            "  Building wheel for overrides (setup.py) ... \u001b[?25l\u001b[?25hdone\n",
            "  Created wheel for overrides: filename=overrides-3.1.0-py3-none-any.whl size=10186 sha256=447578f097c2a11a7b741ec18a15adfd0a7afe45c14fdd0510fbcbb4128c927d\n",
            "  Stored in directory: /root/.cache/pip/wheels/3a/0d/38/01a9bc6e20dcfaf0a6a7b552d03137558ba1c38aea47644682\n",
            "  Building wheel for segtok (setup.py) ... \u001b[?25l\u001b[?25hdone\n",
            "  Created wheel for segtok: filename=segtok-1.5.10-py3-none-any.whl size=25030 sha256=6c7ad0a85d79a2306e2781e375070581ed05ac2c3f581f4da31fe9866ac90f6f\n",
            "  Stored in directory: /root/.cache/pip/wheels/67/b7/d0/a121106e61339eee5ed083bc230b1c8dc422c49a5a28c2addd\n",
            "  Building wheel for sqlitedict (setup.py) ... \u001b[?25l\u001b[?25hdone\n",
            "  Created wheel for sqlitedict: filename=sqlitedict-1.7.0-py3-none-any.whl size=14392 sha256=7055268aa6c97bed47a6128ff6aac32fb13d0c5d284673bdeff96d5b1e395d6b\n",
            "  Stored in directory: /root/.cache/pip/wheels/af/94/06/18c0e83e9e227da8f3582810b51f319bbfd181e508676a56c8\n",
            "  Building wheel for ftfy (setup.py) ... \u001b[?25l\u001b[?25hdone\n",
            "  Created wheel for ftfy: filename=ftfy-6.0.3-py3-none-any.whl size=41933 sha256=d4710b4f5e644dafcf21e227e6ed5de62fb2587457219c4c8238c9b9d343d670\n",
            "  Stored in directory: /root/.cache/pip/wheels/19/f5/38/273eb3b5e76dfd850619312f693716ac4518b498f5ffb6f56d\n",
            "  Building wheel for langdetect (setup.py) ... \u001b[?25l\u001b[?25hdone\n",
            "  Created wheel for langdetect: filename=langdetect-1.0.9-py3-none-any.whl size=993242 sha256=3a7e8a6c80828c73565b7b375206637e29a650c4888c3a118a468fae4aa6e473\n",
            "  Stored in directory: /root/.cache/pip/wheels/c5/96/8a/f90c59ed25d75e50a8c10a1b1c2d4c402e4dacfa87f3aff36a\n",
            "  Building wheel for wikipedia-api (setup.py) ... \u001b[?25l\u001b[?25hdone\n",
            "  Created wheel for wikipedia-api: filename=Wikipedia_API-0.5.4-py3-none-any.whl size=13475 sha256=1767a4c79570a0c729d85f0e2abfa238d35c4e91c086ce876b6993cd097413b6\n",
            "  Stored in directory: /root/.cache/pip/wheels/d3/24/56/58ba93cf78be162451144e7a9889603f437976ef1ae7013d04\n",
            "Successfully built gdown mpld3 overrides segtok sqlitedict ftfy langdetect wikipedia-api\n",
            "Installing collected packages: requests, pyyaml, importlib-metadata, tokenizers, sentencepiece, sacremoses, overrides, huggingface-hub, wikipedia-api, transformers, sqlitedict, segtok, mpld3, more-itertools, langdetect, konoha, janome, gdown, ftfy, deprecated, conllu, bpemb, flair\n",
            "  Attempting uninstall: requests\n",
            "    Found existing installation: requests 2.23.0\n",
            "    Uninstalling requests-2.23.0:\n",
            "      Successfully uninstalled requests-2.23.0\n",
            "  Attempting uninstall: pyyaml\n",
            "    Found existing installation: PyYAML 3.13\n",
            "    Uninstalling PyYAML-3.13:\n",
            "      Successfully uninstalled PyYAML-3.13\n",
            "  Attempting uninstall: importlib-metadata\n",
            "    Found existing installation: importlib-metadata 4.8.2\n",
            "    Uninstalling importlib-metadata-4.8.2:\n",
            "      Successfully uninstalled importlib-metadata-4.8.2\n",
            "  Attempting uninstall: more-itertools\n",
            "    Found existing installation: more-itertools 8.11.0\n",
            "    Uninstalling more-itertools-8.11.0:\n",
            "      Successfully uninstalled more-itertools-8.11.0\n",
            "  Attempting uninstall: gdown\n",
            "    Found existing installation: gdown 3.6.4\n",
            "    Uninstalling gdown-3.6.4:\n",
            "      Successfully uninstalled gdown-3.6.4\n",
            "\u001b[31mERROR: pip's dependency resolver does not currently take into account all the packages that are installed. This behaviour is the source of the following dependency conflicts.\n",
            "google-colab 1.0.0 requires requests~=2.23.0, but you have requests 2.26.0 which is incompatible.\n",
            "datascience 0.10.6 requires folium==0.2.1, but you have folium 0.8.3 which is incompatible.\u001b[0m\n",
            "Successfully installed bpemb-0.3.3 conllu-4.4.1 deprecated-1.2.13 flair-0.9 ftfy-6.0.3 gdown-3.12.2 huggingface-hub-0.1.2 importlib-metadata-3.10.1 janome-0.4.1 konoha-4.6.5 langdetect-1.0.9 more-itertools-8.8.0 mpld3-0.3 overrides-3.1.0 pyyaml-6.0 requests-2.26.0 sacremoses-0.0.46 segtok-1.5.10 sentencepiece-0.1.95 sqlitedict-1.7.0 tokenizers-0.10.3 transformers-4.12.3 wikipedia-api-0.5.4\n",
            "Collecting yfinance\n",
            "  Downloading yfinance-0.1.66-py2.py3-none-any.whl (25 kB)\n",
            "Requirement already satisfied: pandas>=0.24 in /usr/local/lib/python3.7/dist-packages (from yfinance) (1.1.5)\n",
            "Collecting lxml>=4.5.1\n",
            "  Downloading lxml-4.6.4-cp37-cp37m-manylinux_2_17_x86_64.manylinux2014_x86_64.manylinux_2_24_x86_64.whl (6.3 MB)\n",
            "\u001b[K     |████████████████████████████████| 6.3 MB 6.4 MB/s \n",
            "\u001b[?25hRequirement already satisfied: requests>=2.20 in /usr/local/lib/python3.7/dist-packages (from yfinance) (2.26.0)\n",
            "Requirement already satisfied: multitasking>=0.0.7 in /usr/local/lib/python3.7/dist-packages (from yfinance) (0.0.9)\n",
            "Requirement already satisfied: numpy>=1.15 in /usr/local/lib/python3.7/dist-packages (from yfinance) (1.19.5)\n",
            "Requirement already satisfied: pytz>=2017.2 in /usr/local/lib/python3.7/dist-packages (from pandas>=0.24->yfinance) (2018.9)\n",
            "Requirement already satisfied: python-dateutil>=2.7.3 in /usr/local/lib/python3.7/dist-packages (from pandas>=0.24->yfinance) (2.8.2)\n",
            "Requirement already satisfied: six>=1.5 in /usr/local/lib/python3.7/dist-packages (from python-dateutil>=2.7.3->pandas>=0.24->yfinance) (1.15.0)\n",
            "Requirement already satisfied: urllib3<1.27,>=1.21.1 in /usr/local/lib/python3.7/dist-packages (from requests>=2.20->yfinance) (1.24.3)\n",
            "Requirement already satisfied: certifi>=2017.4.17 in /usr/local/lib/python3.7/dist-packages (from requests>=2.20->yfinance) (2021.10.8)\n",
            "Requirement already satisfied: charset-normalizer~=2.0.0 in /usr/local/lib/python3.7/dist-packages (from requests>=2.20->yfinance) (2.0.7)\n",
            "Requirement already satisfied: idna<4,>=2.5 in /usr/local/lib/python3.7/dist-packages (from requests>=2.20->yfinance) (2.10)\n",
            "Installing collected packages: lxml, yfinance\n",
            "  Attempting uninstall: lxml\n",
            "    Found existing installation: lxml 4.2.6\n",
            "    Uninstalling lxml-4.2.6:\n",
            "      Successfully uninstalled lxml-4.2.6\n",
            "Successfully installed lxml-4.6.4 yfinance-0.1.66\n"
          ]
        }
      ]
    },
    {
      "cell_type": "code",
      "metadata": {
        "id": "fQQNl5oQJ5ow"
      },
      "source": [
        "os.chdir('/content/drive/MyDrive/Morgan Stanly Challenge/Twitter Data/Twitter Data Split')"
      ],
      "execution_count": null,
      "outputs": []
    },
    {
      "cell_type": "code",
      "metadata": {
        "colab": {
          "base_uri": "https://localhost:8080/"
        },
        "id": "CO5x2fisKgpi",
        "outputId": "cbe75023-8d94-418e-bfbd-0d5f4dba88d5"
      },
      "source": [
        "!pwd"
      ],
      "execution_count": null,
      "outputs": [
        {
          "output_type": "stream",
          "name": "stdout",
          "text": [
            "/content/drive/.shortcut-targets-by-id/1Uiw9-Wjv47Ip7d0GEGzTiXLA9qavuR5Q/Twitter Data Split\n"
          ]
        }
      ]
    },
    {
      "cell_type": "code",
      "metadata": {
        "id": "axgT2owlInUd"
      },
      "source": [
        "import nltk\n",
        "from nltk import word_tokenize\n",
        "import pandas as pd\n",
        "import datetime\n",
        "import json"
      ],
      "execution_count": null,
      "outputs": []
    },
    {
      "cell_type": "code",
      "metadata": {
        "id": "ow8ZivgTeQe0",
        "colab": {
          "base_uri": "https://localhost:8080/"
        },
        "outputId": "d5bb3787-9f87-4dfd-b591-7d9404e6e91d"
      },
      "source": [
        "%%time\n",
        "import datetime\n",
        "    \n",
        "tmp = []\n",
        "with open(f'AAL_search_{year}.json','r') as f:\n",
        "  for line in f:\n",
        "      tmp.append(json.loads(line))"
      ],
      "execution_count": null,
      "outputs": [
        {
          "output_type": "stream",
          "name": "stdout",
          "text": [
            "CPU times: user 3.75 s, sys: 475 ms, total: 4.23 s\n",
            "Wall time: 4.19 s\n"
          ]
        }
      ]
    },
    {
      "cell_type": "code",
      "metadata": {
        "colab": {
          "base_uri": "https://localhost:8080/"
        },
        "id": "SIx1hYqWecQL",
        "collapsed": true,
        "outputId": "33b6c998-bbfb-441f-c99a-67ba687053a6"
      },
      "source": [
        "tmp[1]"
      ],
      "execution_count": null,
      "outputs": [
        {
          "output_type": "execute_result",
          "data": {
            "text/plain": [
              "{'cashtags': [],\n",
              " 'conversation_id': '20590677771419648',\n",
              " 'created_at': '2010-12-30 23:55:14 UTC',\n",
              " 'date': '2010-12-30',\n",
              " 'geo': '',\n",
              " 'hashtags': [],\n",
              " 'id': 20629011851907072,\n",
              " 'language': 'en',\n",
              " 'likes_count': 0,\n",
              " 'link': 'https://twitter.com/DotWonder/status/20629011851907072',\n",
              " 'mentions': [],\n",
              " 'name': 'DotWonder',\n",
              " 'near': '',\n",
              " 'photos': [],\n",
              " 'place': '',\n",
              " 'quote_url': '',\n",
              " 'replies_count': 0,\n",
              " 'reply_to': [],\n",
              " 'retweet': False,\n",
              " 'retweet_date': '',\n",
              " 'retweet_id': '',\n",
              " 'retweets_count': 0,\n",
              " 'source': '',\n",
              " 'thumbnail': '',\n",
              " 'time': '23:55:14',\n",
              " 'timezone': '+0000',\n",
              " 'trans_dest': '',\n",
              " 'trans_src': '',\n",
              " 'translate': '',\n",
              " 'tweet': '@completelydark I Am on American airlines now...they practice customer service',\n",
              " 'urls': [],\n",
              " 'user_id': 20986258,\n",
              " 'user_rt': '',\n",
              " 'user_rt_id': '',\n",
              " 'username': 'dotwonder',\n",
              " 'video': 0}"
            ]
          },
          "metadata": {},
          "execution_count": 7
        }
      ]
    },
    {
      "cell_type": "code",
      "metadata": {
        "id": "semaySQEy_56"
      },
      "source": [
        "# 'username': 'americanair'\n",
        "# 'language': 'en'\n",
        "# 'likes_count': 0\n",
        "# 'retweets_count': 0\n",
        "# 'replies_count': 0"
      ],
      "execution_count": null,
      "outputs": []
    },
    {
      "cell_type": "code",
      "metadata": {
        "id": "u22ni8WoInUf",
        "colab": {
          "base_uri": "https://localhost:8080/"
        },
        "outputId": "f63e5679-0c3f-47aa-bcca-2d09019daa96"
      },
      "source": [
        "%%time\n",
        "import preprocessor as p\n",
        "data = []\n",
        "for i in tmp:\n",
        "    #filter short tweet\n",
        "    if (i['language'] == 'en') and (i['username'] != 'americanair') and ('@AmericanAir' in i['tweet']) and ('dm' not in i['tweet']):\n",
        "      i['clean_tweet'] = p.clean(i['tweet'])\n",
        "      if  (len(i['clean_tweet']) > 45):\n",
        "          t_id = i['id']\n",
        "          date = i['date']\n",
        "          tweet = i['tweet']\n",
        "          datetime_obj = datetime.datetime.strptime(date, '%Y-%m-%d')\n",
        "          more = [t_id, datetime_obj, tweet, i['likes_count'], i['retweets_count'], i['replies_count'],i['clean_tweet']]\n",
        "          data.append(more)\n",
        "    \n",
        "#data\n"
      ],
      "execution_count": null,
      "outputs": [
        {
          "output_type": "stream",
          "name": "stdout",
          "text": [
            "CPU times: user 723 ms, sys: 6.31 ms, total: 730 ms\n",
            "Wall time: 726 ms\n"
          ]
        }
      ]
    },
    {
      "cell_type": "code",
      "metadata": {
        "colab": {
          "base_uri": "https://localhost:8080/"
        },
        "id": "DVMKEGZZcJ_9",
        "outputId": "5e3aba3d-3725-4621-f6e7-ed6072fab63e"
      },
      "source": [
        "df = pd.DataFrame(data)\n",
        "df = df.set_index(0)\n",
        "len(df)"
      ],
      "execution_count": null,
      "outputs": [
        {
          "output_type": "execute_result",
          "data": {
            "text/plain": [
              "4530"
            ]
          },
          "metadata": {},
          "execution_count": 10
        }
      ]
    },
    {
      "cell_type": "code",
      "metadata": {
        "id": "2h9Gw-mn7OjI"
      },
      "source": [
        "# %%time\n",
        "# import preprocessor as p\n",
        "# df['clean_tweet'] = df[2].apply(lambda x: p.clean(x))"
      ],
      "execution_count": null,
      "outputs": []
    },
    {
      "cell_type": "code",
      "metadata": {
        "colab": {
          "base_uri": "https://localhost:8080/",
          "height": 234
        },
        "id": "z1sUZOIu74e9",
        "outputId": "23029653-ff62-4ca0-ff53-31dee9ec63ab"
      },
      "source": [
        "df_new = df[(df[3]>0) | (df[4]>0) | (df[5]>0)]\n",
        "df_new.head()"
      ],
      "execution_count": null,
      "outputs": [
        {
          "output_type": "execute_result",
          "data": {
            "text/html": [
              "<div>\n",
              "<style scoped>\n",
              "    .dataframe tbody tr th:only-of-type {\n",
              "        vertical-align: middle;\n",
              "    }\n",
              "\n",
              "    .dataframe tbody tr th {\n",
              "        vertical-align: top;\n",
              "    }\n",
              "\n",
              "    .dataframe thead th {\n",
              "        text-align: right;\n",
              "    }\n",
              "</style>\n",
              "<table border=\"1\" class=\"dataframe\">\n",
              "  <thead>\n",
              "    <tr style=\"text-align: right;\">\n",
              "      <th></th>\n",
              "      <th>1</th>\n",
              "      <th>2</th>\n",
              "      <th>3</th>\n",
              "      <th>4</th>\n",
              "      <th>5</th>\n",
              "      <th>6</th>\n",
              "    </tr>\n",
              "    <tr>\n",
              "      <th>0</th>\n",
              "      <th></th>\n",
              "      <th></th>\n",
              "      <th></th>\n",
              "      <th></th>\n",
              "      <th></th>\n",
              "      <th></th>\n",
              "    </tr>\n",
              "  </thead>\n",
              "  <tbody>\n",
              "    <tr>\n",
              "      <th>20617692557877249</th>\n",
              "      <td>2010-12-30</td>\n",
              "      <td>And a @FlyANA_USA 747 RT @airliners_net: An Ai...</td>\n",
              "      <td>0</td>\n",
              "      <td>1</td>\n",
              "      <td>0</td>\n",
              "      <td>And a RT : An Air To Air Shot of B767-323/ER D...</td>\n",
              "    </tr>\n",
              "    <tr>\n",
              "      <th>20614506023493632</th>\n",
              "      <td>2010-12-30</td>\n",
              "      <td>Washington/Honolulu 431 rt w/tax on @AmericanA...</td>\n",
              "      <td>0</td>\n",
              "      <td>2</td>\n",
              "      <td>0</td>\n",
              "      <td>Washington/Honolulu rt w/tax on . United did i...</td>\n",
              "    </tr>\n",
              "    <tr>\n",
              "      <th>20554682699096064</th>\n",
              "      <td>2010-12-30</td>\n",
              "      <td>@AmericanAir low employee motivation is part o...</td>\n",
              "      <td>0</td>\n",
              "      <td>1</td>\n",
              "      <td>0</td>\n",
              "      <td>low employee motivation is part of your proble...</td>\n",
              "    </tr>\n",
              "    <tr>\n",
              "      <th>20321732137058304</th>\n",
              "      <td>2010-12-30</td>\n",
              "      <td>If I were to write a book on how to screw up c...</td>\n",
              "      <td>0</td>\n",
              "      <td>1</td>\n",
              "      <td>0</td>\n",
              "      <td>If I were to write a book on how to screw up c...</td>\n",
              "    </tr>\n",
              "    <tr>\n",
              "      <th>20302399570714624</th>\n",
              "      <td>2010-12-30</td>\n",
              "      <td>@robertcaplin At last @AmericanAir #GetRobertH...</td>\n",
              "      <td>0</td>\n",
              "      <td>1</td>\n",
              "      <td>0</td>\n",
              "      <td>At last . I wish you a very good and safe flight</td>\n",
              "    </tr>\n",
              "  </tbody>\n",
              "</table>\n",
              "</div>"
            ],
            "text/plain": [
              "                           1  ...                                                  6\n",
              "0                             ...                                                   \n",
              "20617692557877249 2010-12-30  ...  And a RT : An Air To Air Shot of B767-323/ER D...\n",
              "20614506023493632 2010-12-30  ...  Washington/Honolulu rt w/tax on . United did i...\n",
              "20554682699096064 2010-12-30  ...  low employee motivation is part of your proble...\n",
              "20321732137058304 2010-12-30  ...  If I were to write a book on how to screw up c...\n",
              "20302399570714624 2010-12-30  ...   At last . I wish you a very good and safe flight\n",
              "\n",
              "[5 rows x 6 columns]"
            ]
          },
          "metadata": {},
          "execution_count": 12
        }
      ]
    },
    {
      "cell_type": "code",
      "metadata": {
        "colab": {
          "base_uri": "https://localhost:8080/"
        },
        "id": "S1z-l_zwcg5v",
        "outputId": "4b23124a-58d9-448a-9260-3f79090ed5ad"
      },
      "source": [
        "len(df_new)"
      ],
      "execution_count": null,
      "outputs": [
        {
          "output_type": "execute_result",
          "data": {
            "text/plain": [
              "326"
            ]
          },
          "metadata": {},
          "execution_count": 13
        }
      ]
    },
    {
      "cell_type": "code",
      "metadata": {
        "id": "sq0I3-hMzwBe"
      },
      "source": [
        "# m = 20\n",
        "# # df_new.iloc[m,1]\n",
        "# print(df_new.iloc[m,-1])\n",
        "# print(pred[m])\n",
        "# sentence = Sentence(df_new.iloc[m,-1])\n",
        "# classifier.predict(sentence)\n",
        "# print(sentence.labels)\n",
        "# sid.polarity_scores(df_new.iloc[m,-1])"
      ],
      "execution_count": null,
      "outputs": []
    },
    {
      "cell_type": "code",
      "metadata": {
        "id": "AGrJy6E-InUf",
        "colab": {
          "base_uri": "https://localhost:8080/"
        },
        "outputId": "43d1081a-5e75-480b-c32f-4d579877a0e5"
      },
      "source": [
        "len(df_new)"
      ],
      "execution_count": null,
      "outputs": [
        {
          "output_type": "execute_result",
          "data": {
            "text/plain": [
              "326"
            ]
          },
          "metadata": {},
          "execution_count": 15
        }
      ]
    },
    {
      "cell_type": "code",
      "metadata": {
        "id": "DrehkB_srlLE"
      },
      "source": [
        "if tmp:\n",
        "  del tmp, t_id, tweet, date, datetime_obj, more\n",
        "  del df_new[2]"
      ],
      "execution_count": null,
      "outputs": []
    },
    {
      "cell_type": "code",
      "metadata": {
        "id": "R4WJflSAsXTk"
      },
      "source": [
        "f.close()"
      ],
      "execution_count": null,
      "outputs": []
    },
    {
      "cell_type": "markdown",
      "metadata": {
        "id": "HotZHawuXBaW"
      },
      "source": [
        "## NLP - flair"
      ]
    },
    {
      "cell_type": "code",
      "metadata": {
        "colab": {
          "base_uri": "https://localhost:8080/"
        },
        "id": "Z-im9mmSTnk8",
        "outputId": "2b23bf38-2028-4b5e-fad1-9fe112d2e696"
      },
      "source": [
        "from flair.models import TextClassifier\n",
        "from flair.data import Sentence\n",
        "\n",
        "classifier = TextClassifier.load('sentiment')"
      ],
      "execution_count": null,
      "outputs": [
        {
          "output_type": "stream",
          "name": "stdout",
          "text": [
            "2021-11-14 23:21:54,702 loading file /root/.flair/models/sentiment-en-mix-distillbert_4.pt\n"
          ]
        }
      ]
    },
    {
      "cell_type": "code",
      "metadata": {
        "colab": {
          "base_uri": "https://localhost:8080/",
          "height": 234
        },
        "id": "rFK-XRPjgK6z",
        "outputId": "7f2b16da-fcf2-4ffb-cfeb-1e55ff26946b"
      },
      "source": [
        "df_new.head()"
      ],
      "execution_count": null,
      "outputs": [
        {
          "output_type": "execute_result",
          "data": {
            "text/html": [
              "<div>\n",
              "<style scoped>\n",
              "    .dataframe tbody tr th:only-of-type {\n",
              "        vertical-align: middle;\n",
              "    }\n",
              "\n",
              "    .dataframe tbody tr th {\n",
              "        vertical-align: top;\n",
              "    }\n",
              "\n",
              "    .dataframe thead th {\n",
              "        text-align: right;\n",
              "    }\n",
              "</style>\n",
              "<table border=\"1\" class=\"dataframe\">\n",
              "  <thead>\n",
              "    <tr style=\"text-align: right;\">\n",
              "      <th></th>\n",
              "      <th>1</th>\n",
              "      <th>3</th>\n",
              "      <th>4</th>\n",
              "      <th>5</th>\n",
              "      <th>6</th>\n",
              "    </tr>\n",
              "    <tr>\n",
              "      <th>0</th>\n",
              "      <th></th>\n",
              "      <th></th>\n",
              "      <th></th>\n",
              "      <th></th>\n",
              "      <th></th>\n",
              "    </tr>\n",
              "  </thead>\n",
              "  <tbody>\n",
              "    <tr>\n",
              "      <th>20617692557877249</th>\n",
              "      <td>2010-12-30</td>\n",
              "      <td>0</td>\n",
              "      <td>1</td>\n",
              "      <td>0</td>\n",
              "      <td>And a RT : An Air To Air Shot of B767-323/ER D...</td>\n",
              "    </tr>\n",
              "    <tr>\n",
              "      <th>20614506023493632</th>\n",
              "      <td>2010-12-30</td>\n",
              "      <td>0</td>\n",
              "      <td>2</td>\n",
              "      <td>0</td>\n",
              "      <td>Washington/Honolulu rt w/tax on . United did i...</td>\n",
              "    </tr>\n",
              "    <tr>\n",
              "      <th>20554682699096064</th>\n",
              "      <td>2010-12-30</td>\n",
              "      <td>0</td>\n",
              "      <td>1</td>\n",
              "      <td>0</td>\n",
              "      <td>low employee motivation is part of your proble...</td>\n",
              "    </tr>\n",
              "    <tr>\n",
              "      <th>20321732137058304</th>\n",
              "      <td>2010-12-30</td>\n",
              "      <td>0</td>\n",
              "      <td>1</td>\n",
              "      <td>0</td>\n",
              "      <td>If I were to write a book on how to screw up c...</td>\n",
              "    </tr>\n",
              "    <tr>\n",
              "      <th>20302399570714624</th>\n",
              "      <td>2010-12-30</td>\n",
              "      <td>0</td>\n",
              "      <td>1</td>\n",
              "      <td>0</td>\n",
              "      <td>At last . I wish you a very good and safe flight</td>\n",
              "    </tr>\n",
              "  </tbody>\n",
              "</table>\n",
              "</div>"
            ],
            "text/plain": [
              "                           1  ...                                                  6\n",
              "0                             ...                                                   \n",
              "20617692557877249 2010-12-30  ...  And a RT : An Air To Air Shot of B767-323/ER D...\n",
              "20614506023493632 2010-12-30  ...  Washington/Honolulu rt w/tax on . United did i...\n",
              "20554682699096064 2010-12-30  ...  low employee motivation is part of your proble...\n",
              "20321732137058304 2010-12-30  ...  If I were to write a book on how to screw up c...\n",
              "20302399570714624 2010-12-30  ...   At last . I wish you a very good and safe flight\n",
              "\n",
              "[5 rows x 5 columns]"
            ]
          },
          "metadata": {},
          "execution_count": 19
        }
      ]
    },
    {
      "cell_type": "code",
      "metadata": {
        "id": "X59dq9BJUM0p",
        "colab": {
          "base_uri": "https://localhost:8080/"
        },
        "outputId": "902434e8-eb81-4299-ede7-fb7d38b36c64"
      },
      "source": [
        "%%time\n",
        "import re\n",
        "pattern = r'([0-9.]+)'\n",
        "result_ls = []\n",
        "for ind in df_new.index:\n",
        "  sentence = Sentence(df_new.loc[ind, 6])\n",
        "  classifier.predict(sentence)\n",
        "  result = str(sentence.labels[0])\n",
        "  if result[0] == 'N':\n",
        "    result_ls.append(-float(re.findall(pattern, result)[0]))\n",
        "  else:\n",
        "    result_ls.append(float(re.findall(pattern, result)[0]))"
      ],
      "execution_count": null,
      "outputs": [
        {
          "output_type": "stream",
          "name": "stdout",
          "text": [
            "CPU times: user 1.66 s, sys: 21.4 ms, total: 1.68 s\n",
            "Wall time: 1.68 s\n"
          ]
        }
      ]
    },
    {
      "cell_type": "code",
      "metadata": {
        "id": "xD4_ppzHhVVC",
        "colab": {
          "base_uri": "https://localhost:8080/"
        },
        "outputId": "ea4c48c5-4ddc-4d73-8a0b-8732a80951c1"
      },
      "source": [
        "import numpy as np\n",
        "result_ls = np.array(result_ls)\n",
        "result_ls"
      ],
      "execution_count": null,
      "outputs": [
        {
          "output_type": "execute_result",
          "data": {
            "text/plain": [
              "array([-0.952 , -0.9942, -0.9985, -0.9935,  0.9966, -0.998 ,  0.7346,\n",
              "       -0.9999, -0.9904, -0.9876, -0.9992,  0.9826, -0.9967,  0.6525,\n",
              "       -0.9984,  0.9915, -0.9415,  0.641 ,  0.9997, -0.9677, -0.9987,\n",
              "       -0.9997, -0.998 , -0.9922, -0.9752,  0.9979, -0.9966, -0.9997,\n",
              "        0.8386, -1.    , -0.5947,  0.9993, -0.9881, -0.9998,  0.8871,\n",
              "        0.6822, -0.9991, -0.9988, -0.9933, -0.9984,  0.7351, -0.9996,\n",
              "       -1.    , -0.9054, -0.9989,  0.994 , -0.6713,  0.994 ,  0.8419,\n",
              "       -0.9726, -0.9635, -0.632 , -0.9935, -0.9033, -0.9987, -0.9988,\n",
              "       -0.9297,  0.99  ,  0.9769, -0.9972,  0.7177, -0.9996,  0.994 ,\n",
              "        0.9998, -0.977 , -0.9988, -0.8246,  0.6973,  0.832 ,  0.9992,\n",
              "       -0.9758,  0.9995, -0.9995,  0.9998, -0.9992,  0.9963,  0.9998,\n",
              "        0.9992, -0.9998,  0.9925,  0.9981, -0.977 ,  0.9935, -0.9977,\n",
              "        0.9992, -0.667 ,  0.9955,  0.9947,  0.9716,  0.9992, -1.    ,\n",
              "        0.9179, -0.9797, -0.9981, -0.9992, -1.    ,  0.9927,  0.9978,\n",
              "        0.777 , -0.9999, -0.9989,  0.9994,  0.9926, -0.975 ,  0.9995,\n",
              "        0.9976,  0.7323, -0.8517,  0.9958,  0.9353,  0.8804,  0.9984,\n",
              "       -0.9926, -0.9993, -0.9605,  0.9827, -0.72  , -0.9987, -0.8158,\n",
              "        0.9963, -1.    , -0.9999, -0.9988, -0.9912,  0.9899, -0.8568,\n",
              "        0.9942,  0.9922, -0.9874, -0.9986, -0.8251,  0.9996, -0.9999,\n",
              "        0.7709,  0.9955,  0.999 ,  0.988 ,  0.9993, -0.9992, -0.997 ,\n",
              "       -0.9998,  0.8243,  0.9987,  0.9924, -0.9713,  0.9978,  0.9951,\n",
              "       -0.9998,  0.9936, -0.9998,  0.9701, -0.9966,  0.9991,  0.9697,\n",
              "        0.9965, -0.9999, -0.8365,  0.9987, -0.645 , -0.9937,  0.9993,\n",
              "       -0.9994,  0.9959,  0.9997, -0.9417,  0.9868, -0.9906,  0.9971,\n",
              "       -0.9969,  0.9617, -0.977 , -0.9551,  0.9999, -0.9996,  0.7842,\n",
              "        0.9028,  0.9986,  0.9964,  0.9918, -0.9994,  0.9791, -1.    ,\n",
              "       -0.9944, -0.986 ,  0.9979,  0.8826, -0.9812, -0.9994, -0.9998,\n",
              "        0.9988,  0.9782,  0.7744,  0.9886,  0.9816, -0.9856, -0.9996,\n",
              "        0.5934, -0.9997, -0.7719, -0.9848, -0.9928, -0.994 , -0.5392,\n",
              "        0.9993, -0.9712, -1.    , -0.5446, -0.9893, -0.9998, -0.9998,\n",
              "        0.8775,  0.9943, -0.6345, -0.9729,  0.9441, -0.9339,  0.9808,\n",
              "        0.8472, -0.9901,  0.9987,  0.9658,  0.9668,  0.9916,  0.9811,\n",
              "        0.9493,  0.5934,  0.999 ,  0.9886,  0.9954,  0.9904,  0.9982,\n",
              "        0.9454, -0.9998, -0.9862,  0.913 ,  0.9742,  0.997 ,  0.9971,\n",
              "        0.9966,  0.9278,  0.9946, -0.9836,  0.9987,  0.9985,  0.9961,\n",
              "        0.9985, -0.9836,  0.9924,  0.9925,  0.9996,  0.999 ,  0.9984,\n",
              "       -0.9937, -0.9993,  0.9955, -0.9975,  0.6219, -0.9995, -0.9988,\n",
              "       -0.9888, -1.    , -0.9992,  0.6086,  0.6227, -0.9759, -0.972 ,\n",
              "        0.8082,  0.8267,  0.9991,  0.8887, -0.999 , -0.5301, -0.9998,\n",
              "       -0.9994, -0.9991,  0.9995,  0.9993,  0.9991,  0.9987,  0.9033,\n",
              "       -0.9843,  0.9617, -0.9996,  0.9961,  0.9987,  0.9927,  0.521 ,\n",
              "        0.9903,  0.9914,  0.9949, -0.9918, -0.9857, -0.9541,  0.9884,\n",
              "       -0.8918,  0.9923, -0.9998,  0.9914,  0.9981,  0.9941,  0.9971,\n",
              "        0.9883, -0.9996, -0.7126,  0.9968,  0.9087,  0.9913,  0.9925,\n",
              "        0.9822,  0.9947, -0.9998,  0.9925,  0.9879, -0.9997, -0.9881,\n",
              "       -0.9254, -0.9957, -0.9999,  0.9026,  0.9988, -0.9995, -0.9912,\n",
              "        0.9954, -0.9999,  0.5532, -0.9998])"
            ]
          },
          "metadata": {},
          "execution_count": 21
        }
      ]
    },
    {
      "cell_type": "code",
      "metadata": {
        "id": "2xH26WkY1ev0",
        "colab": {
          "base_uri": "https://localhost:8080/"
        },
        "outputId": "952b5e3e-28c7-4c9d-e3ee-1fdf5e89ee92"
      },
      "source": [
        "!pwd"
      ],
      "execution_count": null,
      "outputs": [
        {
          "output_type": "stream",
          "name": "stdout",
          "text": [
            "/content/drive/.shortcut-targets-by-id/1Uiw9-Wjv47Ip7d0GEGzTiXLA9qavuR5Q/Twitter Data Split\n"
          ]
        }
      ]
    },
    {
      "cell_type": "code",
      "metadata": {
        "id": "gMlNu3B1sr-o"
      },
      "source": [
        "os.chdir('/content/drive/My Drive/Morgan Stanly Challenge/redo Morgan Stanley Data Challenge/result_data')\n",
        "if os.getcwd() == '/content/drive/My Drive/Morgan Stanly Challenge/redo Morgan Stanley Data Challenge/result_data':\n",
        "  np.savetxt(f'result_ls_{year}.txt',result_ls)\n",
        "else:\n",
        "  print('wrong folder')\n",
        "# result_ls = np.loadtxt(f'result_ls_{year}.txt',delimiter=',')"
      ],
      "execution_count": null,
      "outputs": []
    },
    {
      "cell_type": "markdown",
      "metadata": {
        "id": "yhCy8ViV4-4g"
      },
      "source": [
        "## yfinace"
      ]
    },
    {
      "cell_type": "code",
      "metadata": {
        "id": "MS1W57FyCx0C"
      },
      "source": [
        "df_new.index.name = 't_id'\n",
        "df = df_new.rename(columns={1:'date',3:'like',4:'retweet',5:'reply',6:'tweet'})\n",
        "df['score'] = result_ls\n",
        "df.head(1)\n",
        "del df['tweet']\n",
        "\n",
        "if os.getcwd() == '/content/drive/My Drive/Morgan Stanly Challenge/redo Morgan Stanley Data Challenge/result_data':\n",
        "  df.to_csv(f'df_{year}.csv',index=True, header=True)\n",
        "else:\n",
        "  print('wrong folder')"
      ],
      "execution_count": null,
      "outputs": []
    },
    {
      "cell_type": "code",
      "metadata": {
        "colab": {
          "base_uri": "https://localhost:8080/"
        },
        "id": "_CB0xwO55BIz",
        "outputId": "57e3ae1f-c780-4c81-dc2e-5f181a891c37"
      },
      "source": [
        "# Define the instruments to download. We would like to see AAL, Disney and the Pepsi.\n",
        "tickers = ['AAL']\n",
        "\n",
        "# We would like all available data from 01/01/2010 until 06/30/2021.\n",
        "if year == 2021:\n",
        "  start_date = datetime.datetime(2020,12,30)\n",
        "  end_date = datetime.datetime(2021,6,30)\n",
        "else:\n",
        "  start_date = datetime.datetime(year-1,12,30)\n",
        "  end_date = datetime.datetime(year+1,1,1)\n",
        "\n",
        "# User pandas_reader.data.DataReader to load the desired data. As simple as that.\n",
        "price = yfinance.download(tickers, start_date, end_date)['Close']\n",
        "price.head()"
      ],
      "execution_count": null,
      "outputs": [
        {
          "output_type": "stream",
          "name": "stdout",
          "text": [
            "\r[*********************100%***********************]  1 of 1 completed\n"
          ]
        },
        {
          "output_type": "execute_result",
          "data": {
            "text/plain": [
              "Date\n",
              "2009-12-30    4.87\n",
              "2009-12-31    4.84\n",
              "2010-01-04    4.77\n",
              "2010-01-05    5.31\n",
              "2010-01-06    5.09\n",
              "Name: Close, dtype: float64"
            ]
          },
          "metadata": {},
          "execution_count": 25
        }
      ]
    },
    {
      "cell_type": "code",
      "metadata": {
        "colab": {
          "base_uri": "https://localhost:8080/"
        },
        "id": "h1BbDn-L5F2B",
        "outputId": "b8715c19-ad90-437b-d9b0-fe8d09d7ae61"
      },
      "source": [
        "y_test = price.pct_change()\n",
        "y_test"
      ],
      "execution_count": null,
      "outputs": [
        {
          "output_type": "execute_result",
          "data": {
            "text/plain": [
              "Date\n",
              "2009-12-30         NaN\n",
              "2009-12-31   -0.006160\n",
              "2010-01-04   -0.014463\n",
              "2010-01-05    0.113208\n",
              "2010-01-06   -0.041431\n",
              "                ...   \n",
              "2010-12-27   -0.004036\n",
              "2010-12-28    0.002026\n",
              "2010-12-29    0.025278\n",
              "2010-12-30   -0.000986\n",
              "2010-12-31   -0.011846\n",
              "Name: Close, Length: 254, dtype: float64"
            ]
          },
          "metadata": {},
          "execution_count": 26
        }
      ]
    },
    {
      "cell_type": "code",
      "metadata": {
        "colab": {
          "base_uri": "https://localhost:8080/"
        },
        "id": "KSIPGht05VoT",
        "outputId": "2480f534-e92f-4ff0-896e-e3d6b749ec84"
      },
      "source": [
        "pred_lead_1 = df[(df['like']>0)   ].groupby('date').score.mean()\n",
        "y_pred = pred_lead_1.shift(1)\n",
        "y_pred"
      ],
      "execution_count": null,
      "outputs": [
        {
          "output_type": "execute_result",
          "data": {
            "text/plain": [
              "date\n",
              "2010-02-17         NaN\n",
              "2010-07-15   -0.999900\n",
              "2010-09-30   -0.925400\n",
              "2010-10-06   -0.999800\n",
              "2010-10-08    0.995600\n",
              "2010-10-09    0.992700\n",
              "2010-10-12    0.998700\n",
              "2010-10-14   -0.530100\n",
              "2010-10-15    0.808200\n",
              "2010-10-19   -0.975900\n",
              "2010-10-20    0.997300\n",
              "2010-10-21    0.998600\n",
              "2010-10-22   -0.986200\n",
              "2010-10-25    0.945400\n",
              "2010-10-26    0.985800\n",
              "2010-10-29    0.847200\n",
              "2010-11-02   -0.992800\n",
              "2010-11-03   -0.985600\n",
              "2010-11-04   -0.010800\n",
              "2010-11-09    0.882600\n",
              "2010-11-15    0.784200\n",
              "2010-11-16    0.081100\n",
              "2010-11-17    0.999100\n",
              "2010-11-19    0.995100\n",
              "2010-11-20    0.999300\n",
              "2010-11-23    0.999000\n",
              "2010-11-24    0.994200\n",
              "2010-11-29   -0.998800\n",
              "2010-11-30   -0.815800\n",
              "2010-12-02   -0.960500\n",
              "2010-12-06    0.997600\n",
              "2010-12-07    0.884850\n",
              "2010-12-09   -0.999600\n",
              "2010-12-10    0.442567\n",
              "2010-12-11   -0.997700\n",
              "2010-12-12   -0.003650\n",
              "2010-12-13    0.000300\n",
              "2010-12-17    0.999200\n",
              "2010-12-21    0.990000\n",
              "2010-12-22    0.735100\n",
              "2010-12-23   -0.998400\n",
              "2010-12-24   -0.988100\n",
              "2010-12-26    0.414400\n",
              "2010-12-27   -0.324633\n",
              "2010-12-28   -0.437967\n",
              "Name: score, dtype: float64"
            ]
          },
          "metadata": {},
          "execution_count": 27
        }
      ]
    },
    {
      "cell_type": "code",
      "metadata": {
        "id": "MLEnIjTc5cSI"
      },
      "source": [
        "y_test = pd.DataFrame(y_test)\n",
        "y_pred = pd.DataFrame(y_pred)\n",
        "y_test = y_test.rename(columns={'Close': 'actual'})\n",
        "y_pred = y_pred.rename(columns={'score': 'pred','ceil_score': 'pred'})"
      ],
      "execution_count": null,
      "outputs": []
    },
    {
      "cell_type": "code",
      "metadata": {
        "colab": {
          "base_uri": "https://localhost:8080/",
          "height": 447
        },
        "id": "3ycFazoQ8RmF",
        "outputId": "4a8c7455-ec89-4b5c-8473-d819317729d5"
      },
      "source": [
        "output = pd.merge(y_test,y_pred,how='left',left_index=True,right_index=True)\n",
        "output"
      ],
      "execution_count": null,
      "outputs": [
        {
          "output_type": "execute_result",
          "data": {
            "text/html": [
              "<div>\n",
              "<style scoped>\n",
              "    .dataframe tbody tr th:only-of-type {\n",
              "        vertical-align: middle;\n",
              "    }\n",
              "\n",
              "    .dataframe tbody tr th {\n",
              "        vertical-align: top;\n",
              "    }\n",
              "\n",
              "    .dataframe thead th {\n",
              "        text-align: right;\n",
              "    }\n",
              "</style>\n",
              "<table border=\"1\" class=\"dataframe\">\n",
              "  <thead>\n",
              "    <tr style=\"text-align: right;\">\n",
              "      <th></th>\n",
              "      <th>actual</th>\n",
              "      <th>pred</th>\n",
              "    </tr>\n",
              "    <tr>\n",
              "      <th>Date</th>\n",
              "      <th></th>\n",
              "      <th></th>\n",
              "    </tr>\n",
              "  </thead>\n",
              "  <tbody>\n",
              "    <tr>\n",
              "      <th>2009-12-30</th>\n",
              "      <td>NaN</td>\n",
              "      <td>NaN</td>\n",
              "    </tr>\n",
              "    <tr>\n",
              "      <th>2009-12-31</th>\n",
              "      <td>-0.006160</td>\n",
              "      <td>NaN</td>\n",
              "    </tr>\n",
              "    <tr>\n",
              "      <th>2010-01-04</th>\n",
              "      <td>-0.014463</td>\n",
              "      <td>NaN</td>\n",
              "    </tr>\n",
              "    <tr>\n",
              "      <th>2010-01-05</th>\n",
              "      <td>0.113208</td>\n",
              "      <td>NaN</td>\n",
              "    </tr>\n",
              "    <tr>\n",
              "      <th>2010-01-06</th>\n",
              "      <td>-0.041431</td>\n",
              "      <td>NaN</td>\n",
              "    </tr>\n",
              "    <tr>\n",
              "      <th>...</th>\n",
              "      <td>...</td>\n",
              "      <td>...</td>\n",
              "    </tr>\n",
              "    <tr>\n",
              "      <th>2010-12-27</th>\n",
              "      <td>-0.004036</td>\n",
              "      <td>-0.324633</td>\n",
              "    </tr>\n",
              "    <tr>\n",
              "      <th>2010-12-28</th>\n",
              "      <td>0.002026</td>\n",
              "      <td>-0.437967</td>\n",
              "    </tr>\n",
              "    <tr>\n",
              "      <th>2010-12-29</th>\n",
              "      <td>0.025278</td>\n",
              "      <td>NaN</td>\n",
              "    </tr>\n",
              "    <tr>\n",
              "      <th>2010-12-30</th>\n",
              "      <td>-0.000986</td>\n",
              "      <td>NaN</td>\n",
              "    </tr>\n",
              "    <tr>\n",
              "      <th>2010-12-31</th>\n",
              "      <td>-0.011846</td>\n",
              "      <td>NaN</td>\n",
              "    </tr>\n",
              "  </tbody>\n",
              "</table>\n",
              "<p>254 rows × 2 columns</p>\n",
              "</div>"
            ],
            "text/plain": [
              "              actual      pred\n",
              "Date                          \n",
              "2009-12-30       NaN       NaN\n",
              "2009-12-31 -0.006160       NaN\n",
              "2010-01-04 -0.014463       NaN\n",
              "2010-01-05  0.113208       NaN\n",
              "2010-01-06 -0.041431       NaN\n",
              "...              ...       ...\n",
              "2010-12-27 -0.004036 -0.324633\n",
              "2010-12-28  0.002026 -0.437967\n",
              "2010-12-29  0.025278       NaN\n",
              "2010-12-30 -0.000986       NaN\n",
              "2010-12-31 -0.011846       NaN\n",
              "\n",
              "[254 rows x 2 columns]"
            ]
          },
          "metadata": {},
          "execution_count": 73
        }
      ]
    },
    {
      "cell_type": "code",
      "metadata": {
        "colab": {
          "base_uri": "https://localhost:8080/",
          "height": 1000
        },
        "id": "79MrBjJB3jC7",
        "outputId": "c0035495-1f5c-4fee-c319-28831cd752c0"
      },
      "source": [
        "output.dropna(how='any',inplace=True)\n",
        "output"
      ],
      "execution_count": null,
      "outputs": [
        {
          "output_type": "execute_result",
          "data": {
            "text/html": [
              "<div>\n",
              "<style scoped>\n",
              "    .dataframe tbody tr th:only-of-type {\n",
              "        vertical-align: middle;\n",
              "    }\n",
              "\n",
              "    .dataframe tbody tr th {\n",
              "        vertical-align: top;\n",
              "    }\n",
              "\n",
              "    .dataframe thead th {\n",
              "        text-align: right;\n",
              "    }\n",
              "</style>\n",
              "<table border=\"1\" class=\"dataframe\">\n",
              "  <thead>\n",
              "    <tr style=\"text-align: right;\">\n",
              "      <th></th>\n",
              "      <th>actual</th>\n",
              "      <th>pred</th>\n",
              "    </tr>\n",
              "    <tr>\n",
              "      <th>Date</th>\n",
              "      <th></th>\n",
              "      <th></th>\n",
              "    </tr>\n",
              "  </thead>\n",
              "  <tbody>\n",
              "    <tr>\n",
              "      <th>2010-07-15</th>\n",
              "      <td>-0.018319</td>\n",
              "      <td>-0.999900</td>\n",
              "    </tr>\n",
              "    <tr>\n",
              "      <th>2010-09-30</th>\n",
              "      <td>0.020971</td>\n",
              "      <td>-0.925400</td>\n",
              "    </tr>\n",
              "    <tr>\n",
              "      <th>2010-10-06</th>\n",
              "      <td>0.000000</td>\n",
              "      <td>-0.999800</td>\n",
              "    </tr>\n",
              "    <tr>\n",
              "      <th>2010-10-08</th>\n",
              "      <td>-0.018398</td>\n",
              "      <td>0.995600</td>\n",
              "    </tr>\n",
              "    <tr>\n",
              "      <th>2010-10-12</th>\n",
              "      <td>0.061111</td>\n",
              "      <td>0.998700</td>\n",
              "    </tr>\n",
              "    <tr>\n",
              "      <th>2010-10-14</th>\n",
              "      <td>-0.002041</td>\n",
              "      <td>-0.530100</td>\n",
              "    </tr>\n",
              "    <tr>\n",
              "      <th>2010-10-15</th>\n",
              "      <td>-0.008180</td>\n",
              "      <td>0.808200</td>\n",
              "    </tr>\n",
              "    <tr>\n",
              "      <th>2010-10-19</th>\n",
              "      <td>-0.002964</td>\n",
              "      <td>-0.975900</td>\n",
              "    </tr>\n",
              "    <tr>\n",
              "      <th>2010-10-20</th>\n",
              "      <td>0.074331</td>\n",
              "      <td>0.997300</td>\n",
              "    </tr>\n",
              "    <tr>\n",
              "      <th>2010-10-21</th>\n",
              "      <td>-0.008303</td>\n",
              "      <td>0.998600</td>\n",
              "    </tr>\n",
              "    <tr>\n",
              "      <th>2010-10-22</th>\n",
              "      <td>0.005581</td>\n",
              "      <td>-0.986200</td>\n",
              "    </tr>\n",
              "    <tr>\n",
              "      <th>2010-10-25</th>\n",
              "      <td>0.071230</td>\n",
              "      <td>0.945400</td>\n",
              "    </tr>\n",
              "    <tr>\n",
              "      <th>2010-10-26</th>\n",
              "      <td>0.012953</td>\n",
              "      <td>0.985800</td>\n",
              "    </tr>\n",
              "    <tr>\n",
              "      <th>2010-10-29</th>\n",
              "      <td>-0.007576</td>\n",
              "      <td>0.847200</td>\n",
              "    </tr>\n",
              "    <tr>\n",
              "      <th>2010-11-02</th>\n",
              "      <td>0.022298</td>\n",
              "      <td>-0.992800</td>\n",
              "    </tr>\n",
              "    <tr>\n",
              "      <th>2010-11-03</th>\n",
              "      <td>0.012584</td>\n",
              "      <td>-0.985600</td>\n",
              "    </tr>\n",
              "    <tr>\n",
              "      <th>2010-11-04</th>\n",
              "      <td>-0.042253</td>\n",
              "      <td>-0.010800</td>\n",
              "    </tr>\n",
              "    <tr>\n",
              "      <th>2010-11-09</th>\n",
              "      <td>-0.021371</td>\n",
              "      <td>0.882600</td>\n",
              "    </tr>\n",
              "    <tr>\n",
              "      <th>2010-11-15</th>\n",
              "      <td>0.007526</td>\n",
              "      <td>0.784200</td>\n",
              "    </tr>\n",
              "    <tr>\n",
              "      <th>2010-11-16</th>\n",
              "      <td>-0.001867</td>\n",
              "      <td>0.081100</td>\n",
              "    </tr>\n",
              "    <tr>\n",
              "      <th>2010-11-17</th>\n",
              "      <td>0.000935</td>\n",
              "      <td>0.999100</td>\n",
              "    </tr>\n",
              "    <tr>\n",
              "      <th>2010-11-19</th>\n",
              "      <td>0.005445</td>\n",
              "      <td>0.995100</td>\n",
              "    </tr>\n",
              "    <tr>\n",
              "      <th>2010-11-23</th>\n",
              "      <td>-0.007156</td>\n",
              "      <td>0.999000</td>\n",
              "    </tr>\n",
              "    <tr>\n",
              "      <th>2010-11-24</th>\n",
              "      <td>0.057658</td>\n",
              "      <td>0.994200</td>\n",
              "    </tr>\n",
              "    <tr>\n",
              "      <th>2010-11-29</th>\n",
              "      <td>-0.035897</td>\n",
              "      <td>-0.998800</td>\n",
              "    </tr>\n",
              "    <tr>\n",
              "      <th>2010-11-30</th>\n",
              "      <td>-0.010638</td>\n",
              "      <td>-0.815800</td>\n",
              "    </tr>\n",
              "    <tr>\n",
              "      <th>2010-12-02</th>\n",
              "      <td>-0.013322</td>\n",
              "      <td>-0.960500</td>\n",
              "    </tr>\n",
              "    <tr>\n",
              "      <th>2010-12-06</th>\n",
              "      <td>0.009964</td>\n",
              "      <td>0.997600</td>\n",
              "    </tr>\n",
              "    <tr>\n",
              "      <th>2010-12-07</th>\n",
              "      <td>-0.053812</td>\n",
              "      <td>0.884850</td>\n",
              "    </tr>\n",
              "    <tr>\n",
              "      <th>2010-12-09</th>\n",
              "      <td>-0.005470</td>\n",
              "      <td>-0.999600</td>\n",
              "    </tr>\n",
              "    <tr>\n",
              "      <th>2010-12-10</th>\n",
              "      <td>0.001833</td>\n",
              "      <td>0.442567</td>\n",
              "    </tr>\n",
              "    <tr>\n",
              "      <th>2010-12-13</th>\n",
              "      <td>-0.038426</td>\n",
              "      <td>0.000300</td>\n",
              "    </tr>\n",
              "    <tr>\n",
              "      <th>2010-12-17</th>\n",
              "      <td>-0.006910</td>\n",
              "      <td>0.999200</td>\n",
              "    </tr>\n",
              "    <tr>\n",
              "      <th>2010-12-21</th>\n",
              "      <td>0.033399</td>\n",
              "      <td>0.990000</td>\n",
              "    </tr>\n",
              "    <tr>\n",
              "      <th>2010-12-22</th>\n",
              "      <td>-0.019011</td>\n",
              "      <td>0.735100</td>\n",
              "    </tr>\n",
              "    <tr>\n",
              "      <th>2010-12-23</th>\n",
              "      <td>-0.039729</td>\n",
              "      <td>-0.998400</td>\n",
              "    </tr>\n",
              "    <tr>\n",
              "      <th>2010-12-27</th>\n",
              "      <td>-0.004036</td>\n",
              "      <td>-0.324633</td>\n",
              "    </tr>\n",
              "    <tr>\n",
              "      <th>2010-12-28</th>\n",
              "      <td>0.002026</td>\n",
              "      <td>-0.437967</td>\n",
              "    </tr>\n",
              "  </tbody>\n",
              "</table>\n",
              "</div>"
            ],
            "text/plain": [
              "              actual      pred\n",
              "Date                          \n",
              "2010-07-15 -0.018319 -0.999900\n",
              "2010-09-30  0.020971 -0.925400\n",
              "2010-10-06  0.000000 -0.999800\n",
              "2010-10-08 -0.018398  0.995600\n",
              "2010-10-12  0.061111  0.998700\n",
              "2010-10-14 -0.002041 -0.530100\n",
              "2010-10-15 -0.008180  0.808200\n",
              "2010-10-19 -0.002964 -0.975900\n",
              "2010-10-20  0.074331  0.997300\n",
              "2010-10-21 -0.008303  0.998600\n",
              "2010-10-22  0.005581 -0.986200\n",
              "2010-10-25  0.071230  0.945400\n",
              "2010-10-26  0.012953  0.985800\n",
              "2010-10-29 -0.007576  0.847200\n",
              "2010-11-02  0.022298 -0.992800\n",
              "2010-11-03  0.012584 -0.985600\n",
              "2010-11-04 -0.042253 -0.010800\n",
              "2010-11-09 -0.021371  0.882600\n",
              "2010-11-15  0.007526  0.784200\n",
              "2010-11-16 -0.001867  0.081100\n",
              "2010-11-17  0.000935  0.999100\n",
              "2010-11-19  0.005445  0.995100\n",
              "2010-11-23 -0.007156  0.999000\n",
              "2010-11-24  0.057658  0.994200\n",
              "2010-11-29 -0.035897 -0.998800\n",
              "2010-11-30 -0.010638 -0.815800\n",
              "2010-12-02 -0.013322 -0.960500\n",
              "2010-12-06  0.009964  0.997600\n",
              "2010-12-07 -0.053812  0.884850\n",
              "2010-12-09 -0.005470 -0.999600\n",
              "2010-12-10  0.001833  0.442567\n",
              "2010-12-13 -0.038426  0.000300\n",
              "2010-12-17 -0.006910  0.999200\n",
              "2010-12-21  0.033399  0.990000\n",
              "2010-12-22 -0.019011  0.735100\n",
              "2010-12-23 -0.039729 -0.998400\n",
              "2010-12-27 -0.004036 -0.324633\n",
              "2010-12-28  0.002026 -0.437967"
            ]
          },
          "metadata": {},
          "execution_count": 75
        }
      ]
    },
    {
      "cell_type": "code",
      "metadata": {
        "colab": {
          "base_uri": "https://localhost:8080/"
        },
        "id": "lPCaUaHU6Fo7",
        "outputId": "a47b4018-16ca-4545-faa2-6e0da6b8018b"
      },
      "source": [
        "print('pred accuracy: ',(output['actual'] * output['pred'] > 0).mean())"
      ],
      "execution_count": null,
      "outputs": [
        {
          "output_type": "stream",
          "name": "stdout",
          "text": [
            "pred accuracy:  0.5526315789473685\n"
          ]
        }
      ]
    },
    {
      "cell_type": "code",
      "metadata": {
        "colab": {
          "base_uri": "https://localhost:8080/",
          "height": 1000
        },
        "id": "s3dlj8DFzsWS",
        "outputId": "ba232eb1-6a9d-4258-bd9e-613ff7daa88a"
      },
      "source": [
        "output"
      ],
      "execution_count": null,
      "outputs": [
        {
          "output_type": "execute_result",
          "data": {
            "text/html": [
              "<div>\n",
              "<style scoped>\n",
              "    .dataframe tbody tr th:only-of-type {\n",
              "        vertical-align: middle;\n",
              "    }\n",
              "\n",
              "    .dataframe tbody tr th {\n",
              "        vertical-align: top;\n",
              "    }\n",
              "\n",
              "    .dataframe thead th {\n",
              "        text-align: right;\n",
              "    }\n",
              "</style>\n",
              "<table border=\"1\" class=\"dataframe\">\n",
              "  <thead>\n",
              "    <tr style=\"text-align: right;\">\n",
              "      <th></th>\n",
              "      <th>actual</th>\n",
              "      <th>pred</th>\n",
              "    </tr>\n",
              "    <tr>\n",
              "      <th>Date</th>\n",
              "      <th></th>\n",
              "      <th></th>\n",
              "    </tr>\n",
              "  </thead>\n",
              "  <tbody>\n",
              "    <tr>\n",
              "      <th>2010-07-15</th>\n",
              "      <td>-0.018319</td>\n",
              "      <td>-0.999900</td>\n",
              "    </tr>\n",
              "    <tr>\n",
              "      <th>2010-09-30</th>\n",
              "      <td>0.020971</td>\n",
              "      <td>-0.925400</td>\n",
              "    </tr>\n",
              "    <tr>\n",
              "      <th>2010-10-06</th>\n",
              "      <td>0.000000</td>\n",
              "      <td>-0.999800</td>\n",
              "    </tr>\n",
              "    <tr>\n",
              "      <th>2010-10-08</th>\n",
              "      <td>-0.018398</td>\n",
              "      <td>0.995600</td>\n",
              "    </tr>\n",
              "    <tr>\n",
              "      <th>2010-10-12</th>\n",
              "      <td>0.061111</td>\n",
              "      <td>0.998700</td>\n",
              "    </tr>\n",
              "    <tr>\n",
              "      <th>2010-10-14</th>\n",
              "      <td>-0.002041</td>\n",
              "      <td>-0.530100</td>\n",
              "    </tr>\n",
              "    <tr>\n",
              "      <th>2010-10-15</th>\n",
              "      <td>-0.008180</td>\n",
              "      <td>0.808200</td>\n",
              "    </tr>\n",
              "    <tr>\n",
              "      <th>2010-10-19</th>\n",
              "      <td>-0.002964</td>\n",
              "      <td>-0.975900</td>\n",
              "    </tr>\n",
              "    <tr>\n",
              "      <th>2010-10-20</th>\n",
              "      <td>0.074331</td>\n",
              "      <td>0.997300</td>\n",
              "    </tr>\n",
              "    <tr>\n",
              "      <th>2010-10-21</th>\n",
              "      <td>-0.008303</td>\n",
              "      <td>0.998600</td>\n",
              "    </tr>\n",
              "    <tr>\n",
              "      <th>2010-10-22</th>\n",
              "      <td>0.005581</td>\n",
              "      <td>-0.986200</td>\n",
              "    </tr>\n",
              "    <tr>\n",
              "      <th>2010-10-25</th>\n",
              "      <td>0.071230</td>\n",
              "      <td>0.945400</td>\n",
              "    </tr>\n",
              "    <tr>\n",
              "      <th>2010-10-26</th>\n",
              "      <td>0.012953</td>\n",
              "      <td>0.985800</td>\n",
              "    </tr>\n",
              "    <tr>\n",
              "      <th>2010-10-29</th>\n",
              "      <td>-0.007576</td>\n",
              "      <td>0.847200</td>\n",
              "    </tr>\n",
              "    <tr>\n",
              "      <th>2010-11-02</th>\n",
              "      <td>0.022298</td>\n",
              "      <td>-0.992800</td>\n",
              "    </tr>\n",
              "    <tr>\n",
              "      <th>2010-11-03</th>\n",
              "      <td>0.012584</td>\n",
              "      <td>-0.985600</td>\n",
              "    </tr>\n",
              "    <tr>\n",
              "      <th>2010-11-04</th>\n",
              "      <td>-0.042253</td>\n",
              "      <td>-0.010800</td>\n",
              "    </tr>\n",
              "    <tr>\n",
              "      <th>2010-11-09</th>\n",
              "      <td>-0.021371</td>\n",
              "      <td>0.882600</td>\n",
              "    </tr>\n",
              "    <tr>\n",
              "      <th>2010-11-15</th>\n",
              "      <td>0.007526</td>\n",
              "      <td>0.784200</td>\n",
              "    </tr>\n",
              "    <tr>\n",
              "      <th>2010-11-16</th>\n",
              "      <td>-0.001867</td>\n",
              "      <td>0.081100</td>\n",
              "    </tr>\n",
              "    <tr>\n",
              "      <th>2010-11-17</th>\n",
              "      <td>0.000935</td>\n",
              "      <td>0.999100</td>\n",
              "    </tr>\n",
              "    <tr>\n",
              "      <th>2010-11-19</th>\n",
              "      <td>0.005445</td>\n",
              "      <td>0.995100</td>\n",
              "    </tr>\n",
              "    <tr>\n",
              "      <th>2010-11-23</th>\n",
              "      <td>-0.007156</td>\n",
              "      <td>0.999000</td>\n",
              "    </tr>\n",
              "    <tr>\n",
              "      <th>2010-11-24</th>\n",
              "      <td>0.057658</td>\n",
              "      <td>0.994200</td>\n",
              "    </tr>\n",
              "    <tr>\n",
              "      <th>2010-11-29</th>\n",
              "      <td>-0.035897</td>\n",
              "      <td>-0.998800</td>\n",
              "    </tr>\n",
              "    <tr>\n",
              "      <th>2010-11-30</th>\n",
              "      <td>-0.010638</td>\n",
              "      <td>-0.815800</td>\n",
              "    </tr>\n",
              "    <tr>\n",
              "      <th>2010-12-02</th>\n",
              "      <td>-0.013322</td>\n",
              "      <td>-0.960500</td>\n",
              "    </tr>\n",
              "    <tr>\n",
              "      <th>2010-12-06</th>\n",
              "      <td>0.009964</td>\n",
              "      <td>0.997600</td>\n",
              "    </tr>\n",
              "    <tr>\n",
              "      <th>2010-12-07</th>\n",
              "      <td>-0.053812</td>\n",
              "      <td>0.884850</td>\n",
              "    </tr>\n",
              "    <tr>\n",
              "      <th>2010-12-09</th>\n",
              "      <td>-0.005470</td>\n",
              "      <td>-0.999600</td>\n",
              "    </tr>\n",
              "    <tr>\n",
              "      <th>2010-12-10</th>\n",
              "      <td>0.001833</td>\n",
              "      <td>0.442567</td>\n",
              "    </tr>\n",
              "    <tr>\n",
              "      <th>2010-12-13</th>\n",
              "      <td>-0.038426</td>\n",
              "      <td>0.000300</td>\n",
              "    </tr>\n",
              "    <tr>\n",
              "      <th>2010-12-17</th>\n",
              "      <td>-0.006910</td>\n",
              "      <td>0.999200</td>\n",
              "    </tr>\n",
              "    <tr>\n",
              "      <th>2010-12-21</th>\n",
              "      <td>0.033399</td>\n",
              "      <td>0.990000</td>\n",
              "    </tr>\n",
              "    <tr>\n",
              "      <th>2010-12-22</th>\n",
              "      <td>-0.019011</td>\n",
              "      <td>0.735100</td>\n",
              "    </tr>\n",
              "    <tr>\n",
              "      <th>2010-12-23</th>\n",
              "      <td>-0.039729</td>\n",
              "      <td>-0.998400</td>\n",
              "    </tr>\n",
              "    <tr>\n",
              "      <th>2010-12-27</th>\n",
              "      <td>-0.004036</td>\n",
              "      <td>-0.324633</td>\n",
              "    </tr>\n",
              "    <tr>\n",
              "      <th>2010-12-28</th>\n",
              "      <td>0.002026</td>\n",
              "      <td>-0.437967</td>\n",
              "    </tr>\n",
              "  </tbody>\n",
              "</table>\n",
              "</div>"
            ],
            "text/plain": [
              "              actual      pred\n",
              "Date                          \n",
              "2010-07-15 -0.018319 -0.999900\n",
              "2010-09-30  0.020971 -0.925400\n",
              "2010-10-06  0.000000 -0.999800\n",
              "2010-10-08 -0.018398  0.995600\n",
              "2010-10-12  0.061111  0.998700\n",
              "2010-10-14 -0.002041 -0.530100\n",
              "2010-10-15 -0.008180  0.808200\n",
              "2010-10-19 -0.002964 -0.975900\n",
              "2010-10-20  0.074331  0.997300\n",
              "2010-10-21 -0.008303  0.998600\n",
              "2010-10-22  0.005581 -0.986200\n",
              "2010-10-25  0.071230  0.945400\n",
              "2010-10-26  0.012953  0.985800\n",
              "2010-10-29 -0.007576  0.847200\n",
              "2010-11-02  0.022298 -0.992800\n",
              "2010-11-03  0.012584 -0.985600\n",
              "2010-11-04 -0.042253 -0.010800\n",
              "2010-11-09 -0.021371  0.882600\n",
              "2010-11-15  0.007526  0.784200\n",
              "2010-11-16 -0.001867  0.081100\n",
              "2010-11-17  0.000935  0.999100\n",
              "2010-11-19  0.005445  0.995100\n",
              "2010-11-23 -0.007156  0.999000\n",
              "2010-11-24  0.057658  0.994200\n",
              "2010-11-29 -0.035897 -0.998800\n",
              "2010-11-30 -0.010638 -0.815800\n",
              "2010-12-02 -0.013322 -0.960500\n",
              "2010-12-06  0.009964  0.997600\n",
              "2010-12-07 -0.053812  0.884850\n",
              "2010-12-09 -0.005470 -0.999600\n",
              "2010-12-10  0.001833  0.442567\n",
              "2010-12-13 -0.038426  0.000300\n",
              "2010-12-17 -0.006910  0.999200\n",
              "2010-12-21  0.033399  0.990000\n",
              "2010-12-22 -0.019011  0.735100\n",
              "2010-12-23 -0.039729 -0.998400\n",
              "2010-12-27 -0.004036 -0.324633\n",
              "2010-12-28  0.002026 -0.437967"
            ]
          },
          "metadata": {},
          "execution_count": 77
        }
      ]
    },
    {
      "cell_type": "code",
      "metadata": {
        "colab": {
          "base_uri": "https://localhost:8080/"
        },
        "id": "QU7U9RB0yZj8",
        "outputId": "56460ccc-67cb-4064-c710-91c9cd291ddc"
      },
      "source": [
        "((output['actual']>0) & (output['pred'] > 0) | (output['actual']<0) & (output['pred'] < 0)).values.sum()/len(output['actual'] * output['pred'] > 0)"
      ],
      "execution_count": null,
      "outputs": [
        {
          "output_type": "execute_result",
          "data": {
            "text/plain": [
              "0.5526315789473685"
            ]
          },
          "metadata": {},
          "execution_count": 78
        }
      ]
    },
    {
      "cell_type": "code",
      "metadata": {
        "colab": {
          "base_uri": "https://localhost:8080/"
        },
        "id": "NpI3dXHq-khQ",
        "outputId": "452e06c3-5648-439b-ed9b-2856168b6cac"
      },
      "source": [
        "print('down pct',(output['actual']<0).mean())"
      ],
      "execution_count": null,
      "outputs": [
        {
          "output_type": "stream",
          "name": "stdout",
          "text": [
            "down pct 0.5526315789473685\n"
          ]
        }
      ]
    },
    {
      "cell_type": "markdown",
      "metadata": {
        "id": "rG36HB2J22y_"
      },
      "source": [
        "## Reuse evaluation"
      ]
    },
    {
      "cell_type": "code",
      "metadata": {
        "colab": {
          "base_uri": "https://localhost:8080/"
        },
        "id": "CibklsW70b13",
        "outputId": "7d0a00bb-e032-4fd5-b064-650e996cf3c3"
      },
      "source": [
        "def read_and_evaluate(year):\n",
        "  result_ls = np.loadtxt(f'result_ls_{year}.txt',delimiter=',')\n",
        "  df = pd.read_csv(f'df_{year}.csv')\n",
        "  # Define the instruments to download. We would like to see AAL, Disney and the Pepsi.\n",
        "  tickers = ['AAL']\n",
        "\n",
        "  # We would like all available data from 01/01/2010 until 06/30/2021.\n",
        "  if year == 2021:\n",
        "    start_date = datetime.datetime(2020,12,30)\n",
        "    end_date = datetime.datetime(2021,6,30)\n",
        "  else:\n",
        "    start_date = datetime.datetime(year-1,12,30)\n",
        "    end_date = datetime.datetime(year+1,1,1)\n",
        "\n",
        "  # User pandas_reader.data.DataReader to load the desired data. As simple as that.\n",
        "  price = yfinance.download(tickers, start_date, end_date)['Close']\n",
        "  y_test = price.pct_change()\n",
        "  pred_lead_1 = df[(df['like']>0)  ].groupby('date').score.mean()\n",
        "  y_pred = pred_lead_1.shift(1)\n",
        "  y_test = pd.DataFrame(y_test)\n",
        "  y_pred = pd.DataFrame(y_pred)\n",
        "  y_test = y_test.rename(columns={'Close': 'actual'})\n",
        "  y_pred = y_pred.rename(columns={'score': 'pred','ceil_score': 'pred'})\n",
        "  output = pd.merge(y_test,y_pred,how='left',left_index=True,right_index=True)\n",
        "  output.dropna(how='any',inplace=True)\n",
        "  print('pred accuracy:',(output['actual'] * output['pred'] > 0).mean())\n",
        "  print('down pct',(output['actual']<0).mean())\n",
        "\n",
        "# for y in range(year,2022):\n",
        "#   read_and_evaluate(y)\n",
        "read_and_evaluate(2014)"
      ],
      "execution_count": null,
      "outputs": [
        {
          "output_type": "stream",
          "name": "stdout",
          "text": [
            "\r[*********************100%***********************]  1 of 1 completed\n",
            "pred accuracy: 0.5338645418326693\n",
            "down pct 0.44621513944223107\n"
          ]
        }
      ]
    },
    {
      "cell_type": "markdown",
      "metadata": {
        "id": "EW3Fv2iH-sjr"
      },
      "source": [
        "## Result"
      ]
    },
    {
      "cell_type": "code",
      "metadata": {
        "colab": {
          "base_uri": "https://localhost:8080/"
        },
        "id": "JW1OcODN-rZf",
        "outputId": "f330e374-36d5-4abc-e744-5194ecb90af5"
      },
      "source": [
        "import os\n",
        "os.chdir('/content/drive/My Drive/Morgan Stanly Challenge/redo Morgan Stanley Data Challenge/result_data')\n",
        "df = pd.concat([pd.read_csv(f'df_{y}.csv') for y in range(2010,2022)]).sort_values(by=['date'])\n",
        "\n",
        "def ceil_score(x):\n",
        "  if x > 0:\n",
        "    return 1\n",
        "  else:\n",
        "    return -1\n",
        "df['ceil_score'] = df['score'].apply(ceil_score)\n",
        "\n",
        "tickers = ['AAL']\n",
        "\n",
        "start_date = datetime.datetime(2010,1,1)\n",
        "end_date = datetime.datetime(2021,6,30)\n",
        "price = yfinance.download(tickers, start_date, end_date)['Close']\n",
        "y_test = price.pct_change()\n",
        "pred_lead_1 = df[(df['like']>1)].groupby('date').ceil_score.mean()\n",
        "y_pred = pred_lead_1.shift(1)\n",
        "y_test = pd.DataFrame(y_test)\n",
        "y_pred = pd.DataFrame(y_pred)\n",
        "y_test = y_test.rename(columns={'Close': 'actual'})\n",
        "y_pred = y_pred.rename(columns={'score': 'pred','ceil_score': 'pred'})\n",
        "output = pd.merge(y_test,y_pred,how='left',left_index=True,right_index=True)\n",
        "output.dropna(how='any',inplace=True)\n",
        "print('pred accuracy:',(output['actual'] * output['pred'] > 0).mean())\n",
        "print('down pct',(output['actual']<0).mean())"
      ],
      "execution_count": null,
      "outputs": [
        {
          "output_type": "stream",
          "name": "stdout",
          "text": [
            "\r[*********************100%***********************]  1 of 1 completed\n",
            "pred accuracy: 0.5010482180293501\n",
            "down pct 0.4909853249475891\n"
          ]
        }
      ]
    },
    {
      "cell_type": "code",
      "metadata": {
        "colab": {
          "base_uri": "https://localhost:8080/"
        },
        "id": "LCNML1U0EUFb",
        "outputId": "065bc709-afb3-4eec-ced1-8440f82a9e8c"
      },
      "source": [
        "price = yfinance.download(tickers, start_date, end_date)[['Open','Close']]\n",
        "price['pct_change'] = (price['Close'] - price['Open'])/price['Open']\n",
        "\n",
        "\n",
        "pred_lead_1 = df[(df['like']>1)].groupby('date').score.mean()\n",
        "y_pred = pred_lead_1.shift(1)\n",
        "y_test = pd.DataFrame(price['pct_change'])\n",
        "def ceil_score(x):\n",
        "  if x > 0:\n",
        "    return 1\n",
        "  else:\n",
        "    return -1\n",
        "y_pred = pd.DataFrame(y_pred)\n",
        "\n",
        "y_test = y_test.rename(columns={'pct_change': 'actual'})\n",
        "y_pred = y_pred.rename(columns={'score': 'pred','ceil_score': 'pred'})\n",
        "output = pd.merge(y_test,y_pred,how='left',left_index=True,right_index=True)\n",
        "output.dropna(how='any',inplace=True)\n",
        "print('pred accuracy:',round((output['actual'] * output['pred'] > 0).mean(),6))\n",
        "print('down pct',(output['actual']<0).mean())"
      ],
      "execution_count": null,
      "outputs": [
        {
          "output_type": "stream",
          "name": "stdout",
          "text": [
            "\r[*********************100%***********************]  1 of 1 completed\n",
            "pred accuracy: 0.50608\n",
            "down pct 0.5115303983228512\n"
          ]
        },
        {
          "output_type": "stream",
          "name": "stderr",
          "text": [
            "/usr/local/lib/python3.7/dist-packages/ipykernel_launcher.py:2: SettingWithCopyWarning: \n",
            "A value is trying to be set on a copy of a slice from a DataFrame.\n",
            "Try using .loc[row_indexer,col_indexer] = value instead\n",
            "\n",
            "See the caveats in the documentation: https://pandas.pydata.org/pandas-docs/stable/user_guide/indexing.html#returning-a-view-versus-a-copy\n",
            "  \n"
          ]
        }
      ]
    },
    {
      "cell_type": "code",
      "metadata": {
        "colab": {
          "base_uri": "https://localhost:8080/",
          "height": 548
        },
        "id": "Ug_PK0QvNylI",
        "outputId": "b1dcb97b-40e7-41f6-ff1b-d7162642e93a"
      },
      "source": [
        "price['next_open'] = price['Open'].shift(-1)\n",
        "output = pd.merge(output,pd.DataFrame(price[['Open','Close','next_open']]),how='left',left_index=True,right_index=True)\n",
        "output['price_change'] = output.Close - output.Open\n",
        "output.dropna(how='any',inplace=True)\n",
        "output"
      ],
      "execution_count": null,
      "outputs": [
        {
          "output_type": "stream",
          "name": "stderr",
          "text": [
            "/usr/local/lib/python3.7/dist-packages/ipykernel_launcher.py:1: SettingWithCopyWarning: \n",
            "A value is trying to be set on a copy of a slice from a DataFrame.\n",
            "Try using .loc[row_indexer,col_indexer] = value instead\n",
            "\n",
            "See the caveats in the documentation: https://pandas.pydata.org/pandas-docs/stable/user_guide/indexing.html#returning-a-view-versus-a-copy\n",
            "  \"\"\"Entry point for launching an IPython kernel.\n"
          ]
        },
        {
          "output_type": "execute_result",
          "data": {
            "text/html": [
              "<div>\n",
              "<style scoped>\n",
              "    .dataframe tbody tr th:only-of-type {\n",
              "        vertical-align: middle;\n",
              "    }\n",
              "\n",
              "    .dataframe tbody tr th {\n",
              "        vertical-align: top;\n",
              "    }\n",
              "\n",
              "    .dataframe thead th {\n",
              "        text-align: right;\n",
              "    }\n",
              "</style>\n",
              "<table border=\"1\" class=\"dataframe\">\n",
              "  <thead>\n",
              "    <tr style=\"text-align: right;\">\n",
              "      <th></th>\n",
              "      <th>actual</th>\n",
              "      <th>pred</th>\n",
              "      <th>Open</th>\n",
              "      <th>Close</th>\n",
              "      <th>next_open</th>\n",
              "      <th>price_change</th>\n",
              "    </tr>\n",
              "    <tr>\n",
              "      <th>Date</th>\n",
              "      <th></th>\n",
              "      <th></th>\n",
              "      <th></th>\n",
              "      <th></th>\n",
              "      <th></th>\n",
              "      <th></th>\n",
              "    </tr>\n",
              "  </thead>\n",
              "  <tbody>\n",
              "    <tr>\n",
              "      <th>2010-09-30</th>\n",
              "      <td>0.012035</td>\n",
              "      <td>-0.999900</td>\n",
              "      <td>9.140000</td>\n",
              "      <td>9.250000</td>\n",
              "      <td>9.290000</td>\n",
              "      <td>0.110000</td>\n",
              "    </tr>\n",
              "    <tr>\n",
              "      <th>2010-10-19</th>\n",
              "      <td>0.015091</td>\n",
              "      <td>-0.999800</td>\n",
              "      <td>9.940000</td>\n",
              "      <td>10.090000</td>\n",
              "      <td>10.500000</td>\n",
              "      <td>0.150001</td>\n",
              "    </tr>\n",
              "    <tr>\n",
              "      <th>2010-10-25</th>\n",
              "      <td>0.055606</td>\n",
              "      <td>0.998500</td>\n",
              "      <td>10.970000</td>\n",
              "      <td>11.580000</td>\n",
              "      <td>11.470000</td>\n",
              "      <td>0.610000</td>\n",
              "    </tr>\n",
              "    <tr>\n",
              "      <th>2010-11-15</th>\n",
              "      <td>0.005634</td>\n",
              "      <td>0.999000</td>\n",
              "      <td>10.650000</td>\n",
              "      <td>10.710000</td>\n",
              "      <td>10.620000</td>\n",
              "      <td>0.060000</td>\n",
              "    </tr>\n",
              "    <tr>\n",
              "      <th>2010-11-17</th>\n",
              "      <td>-0.004651</td>\n",
              "      <td>0.998700</td>\n",
              "      <td>10.750000</td>\n",
              "      <td>10.700000</td>\n",
              "      <td>10.820000</td>\n",
              "      <td>-0.050000</td>\n",
              "    </tr>\n",
              "    <tr>\n",
              "      <th>...</th>\n",
              "      <td>...</td>\n",
              "      <td>...</td>\n",
              "      <td>...</td>\n",
              "      <td>...</td>\n",
              "      <td>...</td>\n",
              "      <td>...</td>\n",
              "    </tr>\n",
              "    <tr>\n",
              "      <th>2021-06-22</th>\n",
              "      <td>-0.010738</td>\n",
              "      <td>-0.548609</td>\n",
              "      <td>22.350000</td>\n",
              "      <td>22.110001</td>\n",
              "      <td>22.170000</td>\n",
              "      <td>-0.240000</td>\n",
              "    </tr>\n",
              "    <tr>\n",
              "      <th>2021-06-23</th>\n",
              "      <td>0.001353</td>\n",
              "      <td>-0.469458</td>\n",
              "      <td>22.170000</td>\n",
              "      <td>22.200001</td>\n",
              "      <td>22.209999</td>\n",
              "      <td>0.030001</td>\n",
              "    </tr>\n",
              "    <tr>\n",
              "      <th>2021-06-24</th>\n",
              "      <td>0.006304</td>\n",
              "      <td>-0.498774</td>\n",
              "      <td>22.209999</td>\n",
              "      <td>22.350000</td>\n",
              "      <td>22.330000</td>\n",
              "      <td>0.140001</td>\n",
              "    </tr>\n",
              "    <tr>\n",
              "      <th>2021-06-25</th>\n",
              "      <td>-0.004926</td>\n",
              "      <td>-0.218479</td>\n",
              "      <td>22.330000</td>\n",
              "      <td>22.219999</td>\n",
              "      <td>22.090000</td>\n",
              "      <td>-0.110001</td>\n",
              "    </tr>\n",
              "    <tr>\n",
              "      <th>2021-06-28</th>\n",
              "      <td>-0.031689</td>\n",
              "      <td>-0.415552</td>\n",
              "      <td>22.090000</td>\n",
              "      <td>21.389999</td>\n",
              "      <td>21.320000</td>\n",
              "      <td>-0.700001</td>\n",
              "    </tr>\n",
              "  </tbody>\n",
              "</table>\n",
              "<p>2384 rows × 6 columns</p>\n",
              "</div>"
            ],
            "text/plain": [
              "              actual      pred       Open      Close  next_open  price_change\n",
              "Date                                                                         \n",
              "2010-09-30  0.012035 -0.999900   9.140000   9.250000   9.290000      0.110000\n",
              "2010-10-19  0.015091 -0.999800   9.940000  10.090000  10.500000      0.150001\n",
              "2010-10-25  0.055606  0.998500  10.970000  11.580000  11.470000      0.610000\n",
              "2010-11-15  0.005634  0.999000  10.650000  10.710000  10.620000      0.060000\n",
              "2010-11-17 -0.004651  0.998700  10.750000  10.700000  10.820000     -0.050000\n",
              "...              ...       ...        ...        ...        ...           ...\n",
              "2021-06-22 -0.010738 -0.548609  22.350000  22.110001  22.170000     -0.240000\n",
              "2021-06-23  0.001353 -0.469458  22.170000  22.200001  22.209999      0.030001\n",
              "2021-06-24  0.006304 -0.498774  22.209999  22.350000  22.330000      0.140001\n",
              "2021-06-25 -0.004926 -0.218479  22.330000  22.219999  22.090000     -0.110001\n",
              "2021-06-28 -0.031689 -0.415552  22.090000  21.389999  21.320000     -0.700001\n",
              "\n",
              "[2384 rows x 6 columns]"
            ]
          },
          "metadata": {},
          "execution_count": 7
        }
      ]
    },
    {
      "cell_type": "code",
      "metadata": {
        "colab": {
          "base_uri": "https://localhost:8080/",
          "height": 447
        },
        "id": "59Gp7Hwdcnxz",
        "outputId": "ee5646d9-4541-41fd-971b-28a6688b85c5"
      },
      "source": [
        "price"
      ],
      "execution_count": null,
      "outputs": [
        {
          "output_type": "execute_result",
          "data": {
            "text/html": [
              "<div>\n",
              "<style scoped>\n",
              "    .dataframe tbody tr th:only-of-type {\n",
              "        vertical-align: middle;\n",
              "    }\n",
              "\n",
              "    .dataframe tbody tr th {\n",
              "        vertical-align: top;\n",
              "    }\n",
              "\n",
              "    .dataframe thead th {\n",
              "        text-align: right;\n",
              "    }\n",
              "</style>\n",
              "<table border=\"1\" class=\"dataframe\">\n",
              "  <thead>\n",
              "    <tr style=\"text-align: right;\">\n",
              "      <th></th>\n",
              "      <th>Open</th>\n",
              "      <th>Close</th>\n",
              "      <th>pct_change</th>\n",
              "      <th>next_open</th>\n",
              "    </tr>\n",
              "    <tr>\n",
              "      <th>Date</th>\n",
              "      <th></th>\n",
              "      <th></th>\n",
              "      <th></th>\n",
              "      <th></th>\n",
              "    </tr>\n",
              "  </thead>\n",
              "  <tbody>\n",
              "    <tr>\n",
              "      <th>2010-01-04</th>\n",
              "      <td>4.840000</td>\n",
              "      <td>4.770000</td>\n",
              "      <td>-0.014463</td>\n",
              "      <td>4.790000</td>\n",
              "    </tr>\n",
              "    <tr>\n",
              "      <th>2010-01-05</th>\n",
              "      <td>4.790000</td>\n",
              "      <td>5.310000</td>\n",
              "      <td>0.108559</td>\n",
              "      <td>5.190000</td>\n",
              "    </tr>\n",
              "    <tr>\n",
              "      <th>2010-01-06</th>\n",
              "      <td>5.190000</td>\n",
              "      <td>5.090000</td>\n",
              "      <td>-0.019268</td>\n",
              "      <td>5.060000</td>\n",
              "    </tr>\n",
              "    <tr>\n",
              "      <th>2010-01-07</th>\n",
              "      <td>5.060000</td>\n",
              "      <td>5.240000</td>\n",
              "      <td>0.035573</td>\n",
              "      <td>5.270000</td>\n",
              "    </tr>\n",
              "    <tr>\n",
              "      <th>2010-01-08</th>\n",
              "      <td>5.270000</td>\n",
              "      <td>5.140000</td>\n",
              "      <td>-0.024668</td>\n",
              "      <td>5.130000</td>\n",
              "    </tr>\n",
              "    <tr>\n",
              "      <th>...</th>\n",
              "      <td>...</td>\n",
              "      <td>...</td>\n",
              "      <td>...</td>\n",
              "      <td>...</td>\n",
              "    </tr>\n",
              "    <tr>\n",
              "      <th>2021-06-23</th>\n",
              "      <td>22.170000</td>\n",
              "      <td>22.200001</td>\n",
              "      <td>0.001353</td>\n",
              "      <td>22.209999</td>\n",
              "    </tr>\n",
              "    <tr>\n",
              "      <th>2021-06-24</th>\n",
              "      <td>22.209999</td>\n",
              "      <td>22.350000</td>\n",
              "      <td>0.006304</td>\n",
              "      <td>22.330000</td>\n",
              "    </tr>\n",
              "    <tr>\n",
              "      <th>2021-06-25</th>\n",
              "      <td>22.330000</td>\n",
              "      <td>22.219999</td>\n",
              "      <td>-0.004926</td>\n",
              "      <td>22.090000</td>\n",
              "    </tr>\n",
              "    <tr>\n",
              "      <th>2021-06-28</th>\n",
              "      <td>22.090000</td>\n",
              "      <td>21.389999</td>\n",
              "      <td>-0.031689</td>\n",
              "      <td>21.320000</td>\n",
              "    </tr>\n",
              "    <tr>\n",
              "      <th>2021-06-29</th>\n",
              "      <td>21.320000</td>\n",
              "      <td>21.080000</td>\n",
              "      <td>-0.011257</td>\n",
              "      <td>NaN</td>\n",
              "    </tr>\n",
              "  </tbody>\n",
              "</table>\n",
              "<p>2892 rows × 4 columns</p>\n",
              "</div>"
            ],
            "text/plain": [
              "                 Open      Close  pct_change  next_open\n",
              "Date                                                   \n",
              "2010-01-04   4.840000   4.770000   -0.014463   4.790000\n",
              "2010-01-05   4.790000   5.310000    0.108559   5.190000\n",
              "2010-01-06   5.190000   5.090000   -0.019268   5.060000\n",
              "2010-01-07   5.060000   5.240000    0.035573   5.270000\n",
              "2010-01-08   5.270000   5.140000   -0.024668   5.130000\n",
              "...               ...        ...         ...        ...\n",
              "2021-06-23  22.170000  22.200001    0.001353  22.209999\n",
              "2021-06-24  22.209999  22.350000    0.006304  22.330000\n",
              "2021-06-25  22.330000  22.219999   -0.004926  22.090000\n",
              "2021-06-28  22.090000  21.389999   -0.031689  21.320000\n",
              "2021-06-29  21.320000  21.080000   -0.011257        NaN\n",
              "\n",
              "[2892 rows x 4 columns]"
            ]
          },
          "metadata": {},
          "execution_count": 8
        }
      ]
    },
    {
      "cell_type": "code",
      "metadata": {
        "colab": {
          "base_uri": "https://localhost:8080/"
        },
        "id": "YwGRRtThZcfK",
        "outputId": "140f9352-4901-45d1-a9f5-f5fff18b88d1"
      },
      "source": [
        "# pred < 0, sell at open, buy back at next open, if next day pred still < 0, put up to next day \n",
        "price['Close'][-1] - price['Close'][1]\n",
        "price['Close'][1]"
      ],
      "execution_count": null,
      "outputs": [
        {
          "output_type": "execute_result",
          "data": {
            "text/plain": [
              "5.309999942779541"
            ]
          },
          "metadata": {},
          "execution_count": 9
        }
      ]
    },
    {
      "cell_type": "code",
      "metadata": {
        "colab": {
          "base_uri": "https://localhost:8080/"
        },
        "id": "RiVSWVbUGO3B",
        "outputId": "0cf5117d-e7eb-414f-fc7a-787b350bfbeb"
      },
      "source": [
        "c = price['Close'][1]\n",
        "avoid = 0\n",
        "for ind in output.index:\n",
        "  if output.loc[ind,'pred'] < 0:\n",
        "    avoid += output.loc[ind,'Open'] - output.loc[ind,'next_open']\n",
        "avoid"
      ],
      "execution_count": null,
      "outputs": [
        {
          "output_type": "execute_result",
          "data": {
            "text/plain": [
              "30.009962558746338"
            ]
          },
          "metadata": {},
          "execution_count": 10
        }
      ]
    },
    {
      "cell_type": "code",
      "metadata": {
        "colab": {
          "base_uri": "https://localhost:8080/",
          "height": 464
        },
        "id": "qVDxRwa2eAw1",
        "outputId": "db3c5c80-f193-476a-c2ca-c9dbaf4acba4"
      },
      "source": [
        "import warnings # to ignore warning\n",
        "warnings.filterwarnings('ignore')\n",
        "avoid = {}\n",
        "for ind in output.index:\n",
        "  if output.loc[ind,'pred'] < 0:\n",
        "    avoid[ind] = output.loc[ind,'Open'] - output.loc[ind,'next_open']\n",
        "  else:\n",
        "    avoid[ind] = 0\n",
        "\n",
        "output['avoid'] = pd.Series(avoid)\n",
        "output\n",
        "price = yfinance.download(tickers, start_date, end_date)[['Open','Close']]\n",
        "price['pct_change'] = (price['Close'] - price['Open'])/price['Open']\n",
        "price.dropna(inplace=True)\n",
        "price['avoid'] = output['avoid']\n",
        "price['avoid'] = np.cumsum(price['avoid'].fillna(0))\n",
        "price['value'] = price['avoid'] + price['Open']\n",
        "price"
      ],
      "execution_count": null,
      "outputs": [
        {
          "output_type": "stream",
          "name": "stdout",
          "text": [
            "\r[*********************100%***********************]  1 of 1 completed\n"
          ]
        },
        {
          "output_type": "execute_result",
          "data": {
            "text/html": [
              "<div>\n",
              "<style scoped>\n",
              "    .dataframe tbody tr th:only-of-type {\n",
              "        vertical-align: middle;\n",
              "    }\n",
              "\n",
              "    .dataframe tbody tr th {\n",
              "        vertical-align: top;\n",
              "    }\n",
              "\n",
              "    .dataframe thead th {\n",
              "        text-align: right;\n",
              "    }\n",
              "</style>\n",
              "<table border=\"1\" class=\"dataframe\">\n",
              "  <thead>\n",
              "    <tr style=\"text-align: right;\">\n",
              "      <th></th>\n",
              "      <th>Open</th>\n",
              "      <th>Close</th>\n",
              "      <th>pct_change</th>\n",
              "      <th>avoid</th>\n",
              "      <th>value</th>\n",
              "    </tr>\n",
              "    <tr>\n",
              "      <th>Date</th>\n",
              "      <th></th>\n",
              "      <th></th>\n",
              "      <th></th>\n",
              "      <th></th>\n",
              "      <th></th>\n",
              "    </tr>\n",
              "  </thead>\n",
              "  <tbody>\n",
              "    <tr>\n",
              "      <th>2010-01-04</th>\n",
              "      <td>4.840000</td>\n",
              "      <td>4.770000</td>\n",
              "      <td>-0.014463</td>\n",
              "      <td>0.000000</td>\n",
              "      <td>4.840000</td>\n",
              "    </tr>\n",
              "    <tr>\n",
              "      <th>2010-01-05</th>\n",
              "      <td>4.790000</td>\n",
              "      <td>5.310000</td>\n",
              "      <td>0.108559</td>\n",
              "      <td>0.000000</td>\n",
              "      <td>4.790000</td>\n",
              "    </tr>\n",
              "    <tr>\n",
              "      <th>2010-01-06</th>\n",
              "      <td>5.190000</td>\n",
              "      <td>5.090000</td>\n",
              "      <td>-0.019268</td>\n",
              "      <td>0.000000</td>\n",
              "      <td>5.190000</td>\n",
              "    </tr>\n",
              "    <tr>\n",
              "      <th>2010-01-07</th>\n",
              "      <td>5.060000</td>\n",
              "      <td>5.240000</td>\n",
              "      <td>0.035573</td>\n",
              "      <td>0.000000</td>\n",
              "      <td>5.060000</td>\n",
              "    </tr>\n",
              "    <tr>\n",
              "      <th>2010-01-08</th>\n",
              "      <td>5.270000</td>\n",
              "      <td>5.140000</td>\n",
              "      <td>-0.024668</td>\n",
              "      <td>0.000000</td>\n",
              "      <td>5.270000</td>\n",
              "    </tr>\n",
              "    <tr>\n",
              "      <th>...</th>\n",
              "      <td>...</td>\n",
              "      <td>...</td>\n",
              "      <td>...</td>\n",
              "      <td>...</td>\n",
              "      <td>...</td>\n",
              "    </tr>\n",
              "    <tr>\n",
              "      <th>2021-06-23</th>\n",
              "      <td>22.170000</td>\n",
              "      <td>22.200001</td>\n",
              "      <td>0.001353</td>\n",
              "      <td>29.119963</td>\n",
              "      <td>51.289963</td>\n",
              "    </tr>\n",
              "    <tr>\n",
              "      <th>2021-06-24</th>\n",
              "      <td>22.209999</td>\n",
              "      <td>22.350000</td>\n",
              "      <td>0.006304</td>\n",
              "      <td>28.999962</td>\n",
              "      <td>51.209961</td>\n",
              "    </tr>\n",
              "    <tr>\n",
              "      <th>2021-06-25</th>\n",
              "      <td>22.330000</td>\n",
              "      <td>22.219999</td>\n",
              "      <td>-0.004926</td>\n",
              "      <td>29.239962</td>\n",
              "      <td>51.569962</td>\n",
              "    </tr>\n",
              "    <tr>\n",
              "      <th>2021-06-28</th>\n",
              "      <td>22.090000</td>\n",
              "      <td>21.389999</td>\n",
              "      <td>-0.031689</td>\n",
              "      <td>30.009963</td>\n",
              "      <td>52.099963</td>\n",
              "    </tr>\n",
              "    <tr>\n",
              "      <th>2021-06-29</th>\n",
              "      <td>21.320000</td>\n",
              "      <td>21.080000</td>\n",
              "      <td>-0.011257</td>\n",
              "      <td>30.009963</td>\n",
              "      <td>51.329962</td>\n",
              "    </tr>\n",
              "  </tbody>\n",
              "</table>\n",
              "<p>2892 rows × 5 columns</p>\n",
              "</div>"
            ],
            "text/plain": [
              "                 Open      Close  pct_change      avoid      value\n",
              "Date                                                              \n",
              "2010-01-04   4.840000   4.770000   -0.014463   0.000000   4.840000\n",
              "2010-01-05   4.790000   5.310000    0.108559   0.000000   4.790000\n",
              "2010-01-06   5.190000   5.090000   -0.019268   0.000000   5.190000\n",
              "2010-01-07   5.060000   5.240000    0.035573   0.000000   5.060000\n",
              "2010-01-08   5.270000   5.140000   -0.024668   0.000000   5.270000\n",
              "...               ...        ...         ...        ...        ...\n",
              "2021-06-23  22.170000  22.200001    0.001353  29.119963  51.289963\n",
              "2021-06-24  22.209999  22.350000    0.006304  28.999962  51.209961\n",
              "2021-06-25  22.330000  22.219999   -0.004926  29.239962  51.569962\n",
              "2021-06-28  22.090000  21.389999   -0.031689  30.009963  52.099963\n",
              "2021-06-29  21.320000  21.080000   -0.011257  30.009963  51.329962\n",
              "\n",
              "[2892 rows x 5 columns]"
            ]
          },
          "metadata": {},
          "execution_count": 11
        }
      ]
    },
    {
      "cell_type": "code",
      "metadata": {
        "colab": {
          "base_uri": "https://localhost:8080/",
          "height": 296
        },
        "id": "VyX4c7WNeqa7",
        "outputId": "75efea65-4a3c-444e-e20f-6e1302944ca3"
      },
      "source": [
        "import seaborn as sns\n",
        "sns.barplot(data = output, x = output.index.year, y = 'avoid', estimator=np.sum, ci=None)"
      ],
      "execution_count": null,
      "outputs": [
        {
          "output_type": "execute_result",
          "data": {
            "text/plain": [
              "<matplotlib.axes._subplots.AxesSubplot at 0x7fc06b446ad0>"
            ]
          },
          "metadata": {},
          "execution_count": 12
        },
        {
          "output_type": "display_data",
          "data": {
            "image/png": "[encoded data removed]",
            "text/plain": [
              "<Figure size 432x288 with 1 Axes>"
            ]
          },
          "metadata": {
            "needs_background": "light"
          }
        }
      ]
    },
    {
      "cell_type": "code",
      "metadata": {
        "colab": {
          "base_uri": "https://localhost:8080/"
        },
        "id": "tZiGoTQDhzhg",
        "outputId": "dafc814f-2f44-467d-9c59-9433ec3334cb"
      },
      "source": [
        "pd.Series([-1 if price[price.index.year == y].iloc[-1,0] - price[price.index.year == y].iloc[0,0] < 0 else 1 for y in range(2010,2022)],index=range(2010,2022))"
      ],
      "execution_count": null,
      "outputs": [
        {
          "output_type": "execute_result",
          "data": {
            "text/plain": [
              "2010    1\n",
              "2011   -1\n",
              "2012    1\n",
              "2013    1\n",
              "2014    1\n",
              "2015   -1\n",
              "2016    1\n",
              "2017    1\n",
              "2018   -1\n",
              "2019   -1\n",
              "2020   -1\n",
              "2021    1\n",
              "dtype: int64"
            ]
          },
          "metadata": {},
          "execution_count": 13
        }
      ]
    },
    {
      "cell_type": "code",
      "metadata": {
        "colab": {
          "base_uri": "https://localhost:8080/"
        },
        "id": "o9pp0_iiMH0N",
        "outputId": "2eee2c88-1ac8-45e4-e917-f03baa81394e"
      },
      "source": [
        "a = round(100*(price.iloc[-1,0]-price.iloc[0,-1])/price.iloc[0,-1],6)\n",
        "b = round(100*(price.iloc[-1,-1]-price.iloc[0,-1])/price.iloc[0,-1],6)\n",
        "print(f'Buy and Hold return: {a}%')\n",
        "print(f'NLP return: {b}%')\n",
        "print(f'NLP improved by: {round(100*(b-a)/a,6)}%')"
      ],
      "execution_count": null,
      "outputs": [
        {
          "output_type": "stream",
          "name": "stdout",
          "text": [
            "Buy and Hold return: 340.495848%\n",
            "NLP return: 960.536377%\n",
            "NLP improved by: 182.099292%\n"
          ]
        }
      ]
    },
    {
      "cell_type": "markdown",
      "metadata": {
        "id": "RA53SlRsInUj"
      },
      "source": [
        "##embeddings"
      ]
    },
    {
      "cell_type": "code",
      "metadata": {
        "collapsed": true,
        "id": "X29S9lzN_s77"
      },
      "source": [
        "# # from google.colab import files\n",
        "# # files.upload() #upload kaggle.json\n",
        "\n",
        "# # !pip install -q kaggle\n",
        "# # !mkdir -p ~/.kaggle\n",
        "# # !cp kaggle.json ~/.kaggle/\n",
        "\n",
        "# # !ls ~/.kaggle\n",
        "# # !chmod 600 /root/.kaggle/kaggle.json\n",
        "\n",
        "# import tensorflow as tf\n",
        "# from tensorflow.keras import Sequential\n",
        "# from tensorflow.keras.layers import Dense,Input\n",
        "# from sklearn.utils import shuffle\n",
        "# import tensorflow_hub as hub\n",
        "# import matplotlib.pyplot as plt\n",
        "# from sklearn.model_selection import train_test_split\n",
        "# import numpy as np\n",
        "# import os\n",
        "# import pandas as pd\n",
        "# DATASET_ENCODING = \"ISO-8859-1\"\n",
        "\n",
        "# !kaggle datasets download -d kazanova/sentiment140\n",
        "\n",
        "# df = pd.read_csv(\"/content/sentiment140.zip\",encoding=DATASET_ENCODING)\n",
        "# df= df.iloc[:,[0,-1]]\n",
        "# df.columns = ['sentiment','tweet']\n",
        "# df = pd.concat([df.query(\"sentiment==0\").sample(20000),df.query(\"sentiment==4\").sample(20000)])\n",
        "# df.sentiment = df.sentiment.map({0:0,4:1})\n",
        "# df =  shuffle(df).reset_index(drop=True)\n",
        "\n",
        "# embed = hub.load(\"https://tfhub.dev/google/universal-sentence-encoder/4\")\n",
        "\n",
        "# def vectorize(df):\n",
        "#     embeded_tweets = embed(df['tweet'].values.tolist()).numpy()\n",
        "#     targets = df.sentiment.values\n",
        "#     return embeded_tweets,targets\n",
        "\n",
        "# embeded_tweets,targets = vectorize(df)"
      ],
      "execution_count": null,
      "outputs": []
    },
    {
      "cell_type": "code",
      "metadata": {
        "id": "wzeHAsNgCIfm"
      },
      "source": [
        "# model = Sequential()\n",
        "# model.add(Input(shape=(512,),dtype='float32'))\n",
        "# model.add(Dense(128, activation = 'relu'))\n",
        "# model.add(Dense(64, activation = 'relu'))\n",
        "# model.add(Dense(1, activation = 'sigmoid'))\n",
        "\n",
        "# model.compile(loss='binary_crossentropy', \n",
        "#               optimizer='adam',\n",
        "#               metrics=['acc'])\n",
        "\n",
        "# num_epochs = 3\n",
        "# batch_size = 8   ## 2^x\n",
        "\n",
        "# history = model.fit(embeded_tweets, \n",
        "#                     targets, \n",
        "#                     epochs=num_epochs, \n",
        "#                     validation_split=0.1, \n",
        "#                     shuffle=True,\n",
        "#                     batch_size=batch_size,\n",
        "#                     )"
      ],
      "execution_count": null,
      "outputs": []
    },
    {
      "cell_type": "code",
      "metadata": {
        "id": "WzKFSCMLAPH2"
      },
      "source": [
        "# %%time\n",
        "# pred = model.predict(embed(df_new['clean_tweet']).numpy())"
      ],
      "execution_count": null,
      "outputs": []
    },
    {
      "cell_type": "markdown",
      "metadata": {
        "id": "VWDZLJ9qYRC1"
      },
      "source": [
        "## vader"
      ]
    },
    {
      "cell_type": "code",
      "metadata": {
        "id": "1VMgbSkEX7NJ"
      },
      "source": [
        "# sentence = \"I love you, but I can't fall in love with you\"\n",
        "# import nltk\n",
        "# nltk.download('vader_lexicon')\n",
        "# from nltk.sentiment.vader import SentimentIntensityAnalyzer\n",
        "# sid = SentimentIntensityAnalyzer()\n",
        "# sid.polarity_scores(sentence)"
      ],
      "execution_count": null,
      "outputs": []
    }
  ]
}